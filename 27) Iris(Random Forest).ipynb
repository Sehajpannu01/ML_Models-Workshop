{
 "cells": [
  {
   "cell_type": "code",
   "execution_count": 1,
   "metadata": {},
   "outputs": [],
   "source": [
    "from sklearn.datasets import load_iris"
   ]
  },
  {
   "cell_type": "markdown",
   "metadata": {},
   "source": [
    "1. Load the Data"
   ]
  },
  {
   "cell_type": "code",
   "execution_count": 2,
   "metadata": {},
   "outputs": [],
   "source": [
    "iris = load_iris()"
   ]
  },
  {
   "cell_type": "markdown",
   "metadata": {},
   "source": [
    "2. Get the features and target from the data"
   ]
  },
  {
   "cell_type": "code",
   "execution_count": 3,
   "metadata": {},
   "outputs": [],
   "source": [
    "X = iris.data\n",
    "y = iris.target"
   ]
  },
  {
   "cell_type": "code",
   "execution_count": 6,
   "metadata": {},
   "outputs": [
    {
     "data": {
      "text/plain": [
       "array([[5.1, 3.5, 1.4, 0.2],\n",
       "       [4.9, 3. , 1.4, 0.2],\n",
       "       [4.7, 3.2, 1.3, 0.2],\n",
       "       [4.6, 3.1, 1.5, 0.2],\n",
       "       [5. , 3.6, 1.4, 0.2],\n",
       "       [5.4, 3.9, 1.7, 0.4],\n",
       "       [4.6, 3.4, 1.4, 0.3],\n",
       "       [5. , 3.4, 1.5, 0.2],\n",
       "       [4.4, 2.9, 1.4, 0.2],\n",
       "       [4.9, 3.1, 1.5, 0.1],\n",
       "       [5.4, 3.7, 1.5, 0.2],\n",
       "       [4.8, 3.4, 1.6, 0.2],\n",
       "       [4.8, 3. , 1.4, 0.1],\n",
       "       [4.3, 3. , 1.1, 0.1],\n",
       "       [5.8, 4. , 1.2, 0.2],\n",
       "       [5.7, 4.4, 1.5, 0.4],\n",
       "       [5.4, 3.9, 1.3, 0.4],\n",
       "       [5.1, 3.5, 1.4, 0.3],\n",
       "       [5.7, 3.8, 1.7, 0.3],\n",
       "       [5.1, 3.8, 1.5, 0.3],\n",
       "       [5.4, 3.4, 1.7, 0.2],\n",
       "       [5.1, 3.7, 1.5, 0.4],\n",
       "       [4.6, 3.6, 1. , 0.2],\n",
       "       [5.1, 3.3, 1.7, 0.5],\n",
       "       [4.8, 3.4, 1.9, 0.2],\n",
       "       [5. , 3. , 1.6, 0.2],\n",
       "       [5. , 3.4, 1.6, 0.4],\n",
       "       [5.2, 3.5, 1.5, 0.2],\n",
       "       [5.2, 3.4, 1.4, 0.2],\n",
       "       [4.7, 3.2, 1.6, 0.2],\n",
       "       [4.8, 3.1, 1.6, 0.2],\n",
       "       [5.4, 3.4, 1.5, 0.4],\n",
       "       [5.2, 4.1, 1.5, 0.1],\n",
       "       [5.5, 4.2, 1.4, 0.2],\n",
       "       [4.9, 3.1, 1.5, 0.2],\n",
       "       [5. , 3.2, 1.2, 0.2],\n",
       "       [5.5, 3.5, 1.3, 0.2],\n",
       "       [4.9, 3.6, 1.4, 0.1],\n",
       "       [4.4, 3. , 1.3, 0.2],\n",
       "       [5.1, 3.4, 1.5, 0.2],\n",
       "       [5. , 3.5, 1.3, 0.3],\n",
       "       [4.5, 2.3, 1.3, 0.3],\n",
       "       [4.4, 3.2, 1.3, 0.2],\n",
       "       [5. , 3.5, 1.6, 0.6],\n",
       "       [5.1, 3.8, 1.9, 0.4],\n",
       "       [4.8, 3. , 1.4, 0.3],\n",
       "       [5.1, 3.8, 1.6, 0.2],\n",
       "       [4.6, 3.2, 1.4, 0.2],\n",
       "       [5.3, 3.7, 1.5, 0.2],\n",
       "       [5. , 3.3, 1.4, 0.2],\n",
       "       [7. , 3.2, 4.7, 1.4],\n",
       "       [6.4, 3.2, 4.5, 1.5],\n",
       "       [6.9, 3.1, 4.9, 1.5],\n",
       "       [5.5, 2.3, 4. , 1.3],\n",
       "       [6.5, 2.8, 4.6, 1.5],\n",
       "       [5.7, 2.8, 4.5, 1.3],\n",
       "       [6.3, 3.3, 4.7, 1.6],\n",
       "       [4.9, 2.4, 3.3, 1. ],\n",
       "       [6.6, 2.9, 4.6, 1.3],\n",
       "       [5.2, 2.7, 3.9, 1.4],\n",
       "       [5. , 2. , 3.5, 1. ],\n",
       "       [5.9, 3. , 4.2, 1.5],\n",
       "       [6. , 2.2, 4. , 1. ],\n",
       "       [6.1, 2.9, 4.7, 1.4],\n",
       "       [5.6, 2.9, 3.6, 1.3],\n",
       "       [6.7, 3.1, 4.4, 1.4],\n",
       "       [5.6, 3. , 4.5, 1.5],\n",
       "       [5.8, 2.7, 4.1, 1. ],\n",
       "       [6.2, 2.2, 4.5, 1.5],\n",
       "       [5.6, 2.5, 3.9, 1.1],\n",
       "       [5.9, 3.2, 4.8, 1.8],\n",
       "       [6.1, 2.8, 4. , 1.3],\n",
       "       [6.3, 2.5, 4.9, 1.5],\n",
       "       [6.1, 2.8, 4.7, 1.2],\n",
       "       [6.4, 2.9, 4.3, 1.3],\n",
       "       [6.6, 3. , 4.4, 1.4],\n",
       "       [6.8, 2.8, 4.8, 1.4],\n",
       "       [6.7, 3. , 5. , 1.7],\n",
       "       [6. , 2.9, 4.5, 1.5],\n",
       "       [5.7, 2.6, 3.5, 1. ],\n",
       "       [5.5, 2.4, 3.8, 1.1],\n",
       "       [5.5, 2.4, 3.7, 1. ],\n",
       "       [5.8, 2.7, 3.9, 1.2],\n",
       "       [6. , 2.7, 5.1, 1.6],\n",
       "       [5.4, 3. , 4.5, 1.5],\n",
       "       [6. , 3.4, 4.5, 1.6],\n",
       "       [6.7, 3.1, 4.7, 1.5],\n",
       "       [6.3, 2.3, 4.4, 1.3],\n",
       "       [5.6, 3. , 4.1, 1.3],\n",
       "       [5.5, 2.5, 4. , 1.3],\n",
       "       [5.5, 2.6, 4.4, 1.2],\n",
       "       [6.1, 3. , 4.6, 1.4],\n",
       "       [5.8, 2.6, 4. , 1.2],\n",
       "       [5. , 2.3, 3.3, 1. ],\n",
       "       [5.6, 2.7, 4.2, 1.3],\n",
       "       [5.7, 3. , 4.2, 1.2],\n",
       "       [5.7, 2.9, 4.2, 1.3],\n",
       "       [6.2, 2.9, 4.3, 1.3],\n",
       "       [5.1, 2.5, 3. , 1.1],\n",
       "       [5.7, 2.8, 4.1, 1.3],\n",
       "       [6.3, 3.3, 6. , 2.5],\n",
       "       [5.8, 2.7, 5.1, 1.9],\n",
       "       [7.1, 3. , 5.9, 2.1],\n",
       "       [6.3, 2.9, 5.6, 1.8],\n",
       "       [6.5, 3. , 5.8, 2.2],\n",
       "       [7.6, 3. , 6.6, 2.1],\n",
       "       [4.9, 2.5, 4.5, 1.7],\n",
       "       [7.3, 2.9, 6.3, 1.8],\n",
       "       [6.7, 2.5, 5.8, 1.8],\n",
       "       [7.2, 3.6, 6.1, 2.5],\n",
       "       [6.5, 3.2, 5.1, 2. ],\n",
       "       [6.4, 2.7, 5.3, 1.9],\n",
       "       [6.8, 3. , 5.5, 2.1],\n",
       "       [5.7, 2.5, 5. , 2. ],\n",
       "       [5.8, 2.8, 5.1, 2.4],\n",
       "       [6.4, 3.2, 5.3, 2.3],\n",
       "       [6.5, 3. , 5.5, 1.8],\n",
       "       [7.7, 3.8, 6.7, 2.2],\n",
       "       [7.7, 2.6, 6.9, 2.3],\n",
       "       [6. , 2.2, 5. , 1.5],\n",
       "       [6.9, 3.2, 5.7, 2.3],\n",
       "       [5.6, 2.8, 4.9, 2. ],\n",
       "       [7.7, 2.8, 6.7, 2. ],\n",
       "       [6.3, 2.7, 4.9, 1.8],\n",
       "       [6.7, 3.3, 5.7, 2.1],\n",
       "       [7.2, 3.2, 6. , 1.8],\n",
       "       [6.2, 2.8, 4.8, 1.8],\n",
       "       [6.1, 3. , 4.9, 1.8],\n",
       "       [6.4, 2.8, 5.6, 2.1],\n",
       "       [7.2, 3. , 5.8, 1.6],\n",
       "       [7.4, 2.8, 6.1, 1.9],\n",
       "       [7.9, 3.8, 6.4, 2. ],\n",
       "       [6.4, 2.8, 5.6, 2.2],\n",
       "       [6.3, 2.8, 5.1, 1.5],\n",
       "       [6.1, 2.6, 5.6, 1.4],\n",
       "       [7.7, 3. , 6.1, 2.3],\n",
       "       [6.3, 3.4, 5.6, 2.4],\n",
       "       [6.4, 3.1, 5.5, 1.8],\n",
       "       [6. , 3. , 4.8, 1.8],\n",
       "       [6.9, 3.1, 5.4, 2.1],\n",
       "       [6.7, 3.1, 5.6, 2.4],\n",
       "       [6.9, 3.1, 5.1, 2.3],\n",
       "       [5.8, 2.7, 5.1, 1.9],\n",
       "       [6.8, 3.2, 5.9, 2.3],\n",
       "       [6.7, 3.3, 5.7, 2.5],\n",
       "       [6.7, 3. , 5.2, 2.3],\n",
       "       [6.3, 2.5, 5. , 1.9],\n",
       "       [6.5, 3. , 5.2, 2. ],\n",
       "       [6.2, 3.4, 5.4, 2.3],\n",
       "       [5.9, 3. , 5.1, 1.8]])"
      ]
     },
     "execution_count": 6,
     "metadata": {},
     "output_type": "execute_result"
    }
   ],
   "source": [
    "X"
   ]
  },
  {
   "cell_type": "code",
   "execution_count": 7,
   "metadata": {},
   "outputs": [
    {
     "data": {
      "text/plain": [
       "array([0, 0, 0, 0, 0, 0, 0, 0, 0, 0, 0, 0, 0, 0, 0, 0, 0, 0, 0, 0, 0, 0,\n",
       "       0, 0, 0, 0, 0, 0, 0, 0, 0, 0, 0, 0, 0, 0, 0, 0, 0, 0, 0, 0, 0, 0,\n",
       "       0, 0, 0, 0, 0, 0, 1, 1, 1, 1, 1, 1, 1, 1, 1, 1, 1, 1, 1, 1, 1, 1,\n",
       "       1, 1, 1, 1, 1, 1, 1, 1, 1, 1, 1, 1, 1, 1, 1, 1, 1, 1, 1, 1, 1, 1,\n",
       "       1, 1, 1, 1, 1, 1, 1, 1, 1, 1, 1, 1, 2, 2, 2, 2, 2, 2, 2, 2, 2, 2,\n",
       "       2, 2, 2, 2, 2, 2, 2, 2, 2, 2, 2, 2, 2, 2, 2, 2, 2, 2, 2, 2, 2, 2,\n",
       "       2, 2, 2, 2, 2, 2, 2, 2, 2, 2, 2, 2, 2, 2, 2, 2, 2, 2])"
      ]
     },
     "execution_count": 7,
     "metadata": {},
     "output_type": "execute_result"
    }
   ],
   "source": [
    "y"
   ]
  },
  {
   "cell_type": "markdown",
   "metadata": {},
   "source": [
    "3. Split the data into training and testing"
   ]
  },
  {
   "cell_type": "code",
   "execution_count": 8,
   "metadata": {},
   "outputs": [],
   "source": [
    "from sklearn.model_selection import train_test_split\n",
    "\n",
    "X_train, X_test, y_train, y_test = train_test_split(X,y, test_size= 0.3, random_state= 42)"
   ]
  },
  {
   "cell_type": "markdown",
   "metadata": {},
   "source": [
    "4. Standardize the data"
   ]
  },
  {
   "cell_type": "code",
   "execution_count": 9,
   "metadata": {},
   "outputs": [],
   "source": [
    "from sklearn.preprocessing import StandardScaler\n",
    "\n",
    "sc = StandardScaler()"
   ]
  },
  {
   "cell_type": "code",
   "execution_count": 10,
   "metadata": {},
   "outputs": [
    {
     "data": {
      "text/plain": [
       "array([[-0.4134164 , -1.46200287, -0.09951105, -0.32339776],\n",
       "       [ 0.55122187, -0.50256349,  0.71770262,  0.35303182],\n",
       "       [ 0.67180165,  0.21701605,  0.95119225,  0.75888956],\n",
       "       [ 0.91296121, -0.02284379,  0.30909579,  0.2177459 ],\n",
       "       [ 1.63643991,  1.41631528,  1.30142668,  1.70589097],\n",
       "       [-0.17225683, -0.26270364,  0.19235097,  0.08245999],\n",
       "       [ 2.11875905, -0.02284379,  1.59328871,  1.16474731],\n",
       "       [-0.29283662, -0.02284379,  0.36746819,  0.35303182],\n",
       "       [-0.89573553,  1.17645543, -1.44207638, -1.40568508],\n",
       "       [ 2.23933883, -0.50256349,  1.65166111,  1.0294614 ],\n",
       "       [-0.05167705, -0.74242333,  0.13397857, -0.32339776],\n",
       "       [-0.77515575,  0.93659559, -1.44207638, -1.40568508],\n",
       "       [-1.01631531,  1.17645543, -1.50044878, -1.27039917],\n",
       "       [-0.89573553,  1.89603497, -1.15021435, -1.13511325],\n",
       "       [-1.01631531, -2.42144225, -0.21625586, -0.32339776],\n",
       "       [ 0.55122187, -0.74242333,  0.60095781,  0.75888956],\n",
       "       [-1.25747488,  0.93659559, -1.15021435, -1.40568508],\n",
       "       [-1.01631531, -0.02284379, -1.32533157, -1.40568508],\n",
       "       [-0.89573553,  0.69673574, -1.26695916, -0.99982734],\n",
       "       [-0.29283662, -0.74242333,  0.19235097,  0.08245999],\n",
       "       [-0.89573553,  0.93659559, -1.38370397, -1.40568508],\n",
       "       [-0.17225683, -0.02284379,  0.19235097, -0.05282593],\n",
       "       [ 2.23933883,  1.89603497,  1.65166111,  1.30003323],\n",
       "       [-1.49863445,  0.4568759 , -1.44207638, -1.40568508],\n",
       "       [ 0.43064208, -0.26270364,  0.25072338,  0.08245999],\n",
       "       [-0.17225683, -1.22214302,  0.65933022,  1.0294614 ],\n",
       "       [-0.4134164 ,  2.85547435, -1.44207638, -1.40568508],\n",
       "       [ 0.18948252, -0.02284379,  0.54258541,  0.75888956],\n",
       "       [-0.05167705, -0.74242333,  0.71770262,  0.89417548],\n",
       "       [ 0.18948252, -1.94172256,  0.07560616, -0.32339776],\n",
       "       [-0.53399618, -0.02284379,  0.36746819,  0.35303182],\n",
       "       [ 0.43064208,  0.93659559,  0.89281984,  1.43531914],\n",
       "       [-0.4134164 , -1.70186271,  0.07560616,  0.08245999],\n",
       "       [-0.53399618,  2.13589481, -1.26695916, -1.13511325],\n",
       "       [-1.01631531, -1.70186271, -0.33300068, -0.32339776],\n",
       "       [ 0.67180165, -0.74242333,  0.83444743,  0.89417548],\n",
       "       [-1.01631531,  0.69673574, -1.44207638, -1.40568508],\n",
       "       [-1.01631531,  0.4568759 , -1.55882119, -1.40568508],\n",
       "       [-0.4134164 , -1.46200287, -0.04113865, -0.18811184],\n",
       "       [ 1.033541  , -0.02284379,  0.65933022,  0.62360365],\n",
       "       [-1.1368951 ,  0.21701605, -1.38370397, -1.40568508],\n",
       "       [-0.05167705, -0.50256349,  0.71770262,  1.57060506],\n",
       "       [-1.01631531,  0.93659559, -1.38370397, -1.40568508],\n",
       "       [-1.01631531,  1.17645543, -1.32533157, -0.86454142],\n",
       "       [ 0.06890273,  0.4568759 ,  0.54258541,  0.75888956],\n",
       "       [-0.89573553, -1.22214302, -0.50811789, -0.18811184],\n",
       "       [ 1.27470056,  0.4568759 ,  1.06793706,  1.43531914],\n",
       "       [ 0.18948252, -0.74242333,  0.71770262,  0.48831773],\n",
       "       [ 0.3100623 , -0.98228318,  1.00956465,  0.2177459 ],\n",
       "       [ 2.23933883, -0.02284379,  1.30142668,  1.43531914],\n",
       "       [-0.4134164 , -1.22214302,  0.07560616,  0.08245999],\n",
       "       [-1.73979401, -0.26270364, -1.44207638, -1.40568508],\n",
       "       [-1.8603738 , -0.02284379, -1.6171936 , -1.540971  ],\n",
       "       [ 0.18948252, -1.94172256,  0.65933022,  0.35303182],\n",
       "       [ 1.63643991,  0.4568759 ,  1.24305427,  0.75888956],\n",
       "       [-1.49863445,  0.21701605, -1.38370397, -1.40568508],\n",
       "       [-0.89573553,  1.17645543, -1.44207638, -1.27039917],\n",
       "       [-1.73979401, -0.02284379, -1.50044878, -1.40568508],\n",
       "       [ 0.55122187, -1.22214302,  0.60095781,  0.35303182],\n",
       "       [ 0.55122187,  0.93659559,  1.00956465,  1.57060506],\n",
       "       [-1.49863445,  0.93659559, -1.44207638, -1.27039917],\n",
       "       [ 1.15412078, -0.02284379,  0.95119225,  1.16474731],\n",
       "       [ 0.55122187,  0.69673574,  1.24305427,  1.70589097],\n",
       "       [-1.37805466,  0.4568759 , -1.50044878, -1.40568508],\n",
       "       [ 0.3100623 , -0.26270364,  0.484213  ,  0.2177459 ],\n",
       "       [ 0.79238143, -0.50256349,  0.4258406 ,  0.35303182],\n",
       "       [ 0.43064208, -0.50256349,  0.54258541,  0.75888956],\n",
       "       [ 1.39528035,  0.4568759 ,  0.484213  ,  0.2177459 ],\n",
       "       [ 0.67180165,  0.4568759 ,  0.83444743,  1.43531914],\n",
       "       [-0.89573553,  1.89603497, -1.32533157, -1.40568508],\n",
       "       [ 1.27470056,  0.21701605,  0.89281984,  1.16474731],\n",
       "       [ 0.06890273, -0.02284379,  0.19235097,  0.35303182],\n",
       "       [ 0.79238143, -0.02284379,  0.77607503,  1.0294614 ],\n",
       "       [-0.17225683, -0.98228318, -0.21625586, -0.32339776],\n",
       "       [-0.77515575, -0.74242333,  0.01723376,  0.2177459 ],\n",
       "       [ 0.3100623 , -0.02284379,  0.4258406 ,  0.2177459 ],\n",
       "       [-1.61921423, -1.70186271, -1.50044878, -1.27039917],\n",
       "       [ 0.91296121, -0.26270364,  0.4258406 ,  0.08245999],\n",
       "       [-0.4134164 , -0.98228318,  0.30909579, -0.05282593],\n",
       "       [-0.65457597,  1.65617512, -1.38370397, -1.40568508],\n",
       "       [-0.29283662, -0.02284379,  0.13397857,  0.08245999],\n",
       "       [ 1.7570197 , -0.26270364,  1.41817149,  0.75888956],\n",
       "       [ 1.033541  ,  0.69673574,  1.06793706,  1.16474731],\n",
       "       [-0.89573553,  1.65617512, -1.38370397, -1.13511325],\n",
       "       [-1.1368951 , -1.46200287, -0.33300068, -0.32339776],\n",
       "       [ 1.033541  ,  0.69673574,  1.06793706,  1.70589097],\n",
       "       [ 1.63643991, -0.02284379,  1.12630946,  0.48831773],\n",
       "       [-1.1368951 ,  1.41631528, -1.44207638, -1.540971  ],\n",
       "       [ 1.033541  ,  0.21701605,  1.00956465,  1.57060506],\n",
       "       [-1.1368951 , -0.02284379, -1.44207638, -1.40568508],\n",
       "       [ 1.27470056,  0.21701605,  0.60095781,  0.35303182],\n",
       "       [ 1.87759948, -0.50256349,  1.30142668,  0.89417548],\n",
       "       [ 0.55122187, -0.26270364,  1.00956465,  0.75888956],\n",
       "       [-0.17225683, -0.50256349,  0.13397857,  0.08245999],\n",
       "       [ 0.79238143, -0.02284379,  0.95119225,  0.75888956],\n",
       "       [ 0.55122187, -1.70186271,  0.30909579,  0.08245999],\n",
       "       [ 0.67180165, -0.26270364,  0.25072338,  0.08245999],\n",
       "       [-0.29283662, -0.50256349,  0.60095781,  1.0294614 ],\n",
       "       [ 0.06890273, -0.02284379,  0.71770262,  0.75888956],\n",
       "       [-0.53399618,  0.93659559, -1.26695916, -1.40568508],\n",
       "       [ 0.3100623 , -0.50256349,  0.07560616,  0.08245999],\n",
       "       [-1.1368951 , -1.22214302,  0.36746819,  0.62360365],\n",
       "       [-0.05167705,  2.37575466, -1.55882119, -1.40568508],\n",
       "       [-0.05167705, -0.98228318,  0.07560616, -0.05282593],\n",
       "       [ 1.51586013, -0.02284379,  1.18468187,  1.16474731]])"
      ]
     },
     "execution_count": 10,
     "metadata": {},
     "output_type": "execute_result"
    }
   ],
   "source": [
    "X_train = sc.fit_transform(X_train)\n",
    "X_train"
   ]
  },
  {
   "cell_type": "code",
   "execution_count": 11,
   "metadata": {},
   "outputs": [
    {
     "data": {
      "text/plain": [
       "array([[ 0.3100623 , -0.50256349,  0.484213  , -0.05282593],\n",
       "       [-0.17225683,  1.89603497, -1.26695916, -1.27039917],\n",
       "       [ 2.23933883, -0.98228318,  1.76840592,  1.43531914],\n",
       "       [ 0.18948252, -0.26270364,  0.36746819,  0.35303182],\n",
       "       [ 1.15412078, -0.50256349,  0.54258541,  0.2177459 ],\n",
       "       [-0.53399618,  0.93659559, -1.38370397, -1.13511325],\n",
       "       [-0.29283662, -0.26270364, -0.15788346,  0.08245999],\n",
       "       [ 1.27470056,  0.21701605,  0.71770262,  1.43531914],\n",
       "       [ 0.43064208, -1.94172256,  0.36746819,  0.35303182],\n",
       "       [-0.05167705, -0.74242333,  0.01723376, -0.05282593],\n",
       "       [ 0.79238143,  0.4568759 ,  0.71770262,  1.0294614 ],\n",
       "       [-1.25747488, -0.02284379, -1.44207638, -1.540971  ],\n",
       "       [-0.4134164 ,  1.17645543, -1.50044878, -1.40568508],\n",
       "       [-1.1368951 ,  0.21701605, -1.38370397, -1.540971  ],\n",
       "       [-0.89573553,  1.89603497, -1.38370397, -1.27039917],\n",
       "       [ 0.55122187,  0.69673574,  0.484213  ,  0.48831773],\n",
       "       [ 0.79238143, -0.02284379,  1.12630946,  1.30003323],\n",
       "       [-0.29283662, -1.22214302,  0.01723376, -0.18811184],\n",
       "       [-0.17225683, -0.50256349,  0.36746819,  0.08245999],\n",
       "       [ 0.67180165, -0.50256349,  1.00956465,  1.30003323],\n",
       "       [-1.37805466,  0.4568759 , -1.32533157, -1.40568508],\n",
       "       [ 0.3100623 , -0.02284379,  0.60095781,  0.75888956],\n",
       "       [-1.01631531,  0.93659559, -1.32533157, -1.13511325],\n",
       "       [ 0.67180165, -0.50256349,  1.00956465,  1.16474731],\n",
       "       [ 2.4804984 ,  1.89603497,  1.47654389,  1.0294614 ],\n",
       "       [ 1.033541  , -0.02284379,  0.77607503,  1.43531914],\n",
       "       [ 1.033541  , -1.22214302,  1.12630946,  0.75888956],\n",
       "       [ 1.15412078,  0.4568759 ,  1.18468187,  1.43531914],\n",
       "       [-1.25747488, -0.02284379, -1.44207638, -1.27039917],\n",
       "       [-1.25747488,  0.21701605, -1.32533157, -1.40568508],\n",
       "       [-1.49863445,  1.41631528, -1.675566  , -1.40568508],\n",
       "       [-0.17225683,  3.33519404, -1.38370397, -1.13511325],\n",
       "       [ 1.033541  ,  0.21701605,  0.30909579,  0.2177459 ],\n",
       "       [-1.25747488,  0.93659559, -1.32533157, -1.40568508],\n",
       "       [-1.73979401,  0.4568759 , -1.50044878, -1.40568508],\n",
       "       [ 0.55122187, -1.22214302,  0.65933022,  0.89417548],\n",
       "       [ 0.67180165,  0.4568759 ,  0.36746819,  0.35303182],\n",
       "       [-0.77515575,  1.17645543, -1.38370397, -1.40568508],\n",
       "       [-1.01631531,  1.41631528, -1.44207638, -1.40568508],\n",
       "       [-0.77515575,  2.6156145 , -1.38370397, -1.540971  ],\n",
       "       [-0.05167705, -0.74242333,  0.71770262,  0.89417548],\n",
       "       [ 0.18948252,  0.93659559,  0.36746819,  0.48831773],\n",
       "       [ 1.033541  ,  0.21701605,  0.484213  ,  0.35303182],\n",
       "       [-0.53399618,  2.13589481, -1.50044878, -1.13511325],\n",
       "       [-0.53399618,  1.65617512, -1.38370397, -1.40568508]])"
      ]
     },
     "execution_count": 11,
     "metadata": {},
     "output_type": "execute_result"
    }
   ],
   "source": [
    "X_test = sc.transform(X_test)\n",
    "X_test"
   ]
  },
  {
   "cell_type": "markdown",
   "metadata": {},
   "source": [
    "5. Choose Algo & set the hyperparameters"
   ]
  },
  {
   "cell_type": "code",
   "execution_count": 49,
   "metadata": {},
   "outputs": [],
   "source": [
    "from sklearn.ensemble import RandomForestClassifier\n",
    "\n",
    "rt = RandomForestClassifier(criterion='entropy', n_estimators= 3, random_state= 42)\n",
    "# rt = RandomForestClassifier(criterion='entropy', n_estimators= 10, random_state= 42)\n",
    "# if needed changing n_estimators to 30 accuracy will go to 100% & misclassified samples will be zero\n"
   ]
  },
  {
   "cell_type": "markdown",
   "metadata": {},
   "source": [
    "6. Train the model"
   ]
  },
  {
   "cell_type": "code",
   "execution_count": 50,
   "metadata": {},
   "outputs": [
    {
     "data": {
      "text/html": [
       "<style>#sk-container-id-7 {color: black;background-color: white;}#sk-container-id-7 pre{padding: 0;}#sk-container-id-7 div.sk-toggleable {background-color: white;}#sk-container-id-7 label.sk-toggleable__label {cursor: pointer;display: block;width: 100%;margin-bottom: 0;padding: 0.3em;box-sizing: border-box;text-align: center;}#sk-container-id-7 label.sk-toggleable__label-arrow:before {content: \"▸\";float: left;margin-right: 0.25em;color: #696969;}#sk-container-id-7 label.sk-toggleable__label-arrow:hover:before {color: black;}#sk-container-id-7 div.sk-estimator:hover label.sk-toggleable__label-arrow:before {color: black;}#sk-container-id-7 div.sk-toggleable__content {max-height: 0;max-width: 0;overflow: hidden;text-align: left;background-color: #f0f8ff;}#sk-container-id-7 div.sk-toggleable__content pre {margin: 0.2em;color: black;border-radius: 0.25em;background-color: #f0f8ff;}#sk-container-id-7 input.sk-toggleable__control:checked~div.sk-toggleable__content {max-height: 200px;max-width: 100%;overflow: auto;}#sk-container-id-7 input.sk-toggleable__control:checked~label.sk-toggleable__label-arrow:before {content: \"▾\";}#sk-container-id-7 div.sk-estimator input.sk-toggleable__control:checked~label.sk-toggleable__label {background-color: #d4ebff;}#sk-container-id-7 div.sk-label input.sk-toggleable__control:checked~label.sk-toggleable__label {background-color: #d4ebff;}#sk-container-id-7 input.sk-hidden--visually {border: 0;clip: rect(1px 1px 1px 1px);clip: rect(1px, 1px, 1px, 1px);height: 1px;margin: -1px;overflow: hidden;padding: 0;position: absolute;width: 1px;}#sk-container-id-7 div.sk-estimator {font-family: monospace;background-color: #f0f8ff;border: 1px dotted black;border-radius: 0.25em;box-sizing: border-box;margin-bottom: 0.5em;}#sk-container-id-7 div.sk-estimator:hover {background-color: #d4ebff;}#sk-container-id-7 div.sk-parallel-item::after {content: \"\";width: 100%;border-bottom: 1px solid gray;flex-grow: 1;}#sk-container-id-7 div.sk-label:hover label.sk-toggleable__label {background-color: #d4ebff;}#sk-container-id-7 div.sk-serial::before {content: \"\";position: absolute;border-left: 1px solid gray;box-sizing: border-box;top: 0;bottom: 0;left: 50%;z-index: 0;}#sk-container-id-7 div.sk-serial {display: flex;flex-direction: column;align-items: center;background-color: white;padding-right: 0.2em;padding-left: 0.2em;position: relative;}#sk-container-id-7 div.sk-item {position: relative;z-index: 1;}#sk-container-id-7 div.sk-parallel {display: flex;align-items: stretch;justify-content: center;background-color: white;position: relative;}#sk-container-id-7 div.sk-item::before, #sk-container-id-7 div.sk-parallel-item::before {content: \"\";position: absolute;border-left: 1px solid gray;box-sizing: border-box;top: 0;bottom: 0;left: 50%;z-index: -1;}#sk-container-id-7 div.sk-parallel-item {display: flex;flex-direction: column;z-index: 1;position: relative;background-color: white;}#sk-container-id-7 div.sk-parallel-item:first-child::after {align-self: flex-end;width: 50%;}#sk-container-id-7 div.sk-parallel-item:last-child::after {align-self: flex-start;width: 50%;}#sk-container-id-7 div.sk-parallel-item:only-child::after {width: 0;}#sk-container-id-7 div.sk-dashed-wrapped {border: 1px dashed gray;margin: 0 0.4em 0.5em 0.4em;box-sizing: border-box;padding-bottom: 0.4em;background-color: white;}#sk-container-id-7 div.sk-label label {font-family: monospace;font-weight: bold;display: inline-block;line-height: 1.2em;}#sk-container-id-7 div.sk-label-container {text-align: center;}#sk-container-id-7 div.sk-container {/* jupyter's `normalize.less` sets `[hidden] { display: none; }` but bootstrap.min.css set `[hidden] { display: none !important; }` so we also need the `!important` here to be able to override the default hidden behavior on the sphinx rendered scikit-learn.org. See: https://github.com/scikit-learn/scikit-learn/issues/21755 */display: inline-block !important;position: relative;}#sk-container-id-7 div.sk-text-repr-fallback {display: none;}</style><div id=\"sk-container-id-7\" class=\"sk-top-container\"><div class=\"sk-text-repr-fallback\"><pre>RandomForestClassifier(criterion=&#x27;entropy&#x27;, n_estimators=3, random_state=42)</pre><b>In a Jupyter environment, please rerun this cell to show the HTML representation or trust the notebook. <br />On GitHub, the HTML representation is unable to render, please try loading this page with nbviewer.org.</b></div><div class=\"sk-container\" hidden><div class=\"sk-item\"><div class=\"sk-estimator sk-toggleable\"><input class=\"sk-toggleable__control sk-hidden--visually\" id=\"sk-estimator-id-7\" type=\"checkbox\" checked><label for=\"sk-estimator-id-7\" class=\"sk-toggleable__label sk-toggleable__label-arrow\">RandomForestClassifier</label><div class=\"sk-toggleable__content\"><pre>RandomForestClassifier(criterion=&#x27;entropy&#x27;, n_estimators=3, random_state=42)</pre></div></div></div></div></div>"
      ],
      "text/plain": [
       "RandomForestClassifier(criterion='entropy', n_estimators=3, random_state=42)"
      ]
     },
     "execution_count": 50,
     "metadata": {},
     "output_type": "execute_result"
    }
   ],
   "source": [
    "rt.fit(X_train, y_train)"
   ]
  },
  {
   "cell_type": "markdown",
   "metadata": {},
   "source": [
    "7. Make the predictions using the model"
   ]
  },
  {
   "cell_type": "code",
   "execution_count": 51,
   "metadata": {},
   "outputs": [
    {
     "data": {
      "text/plain": [
       "array([1, 0, 2, 1, 1, 0, 1, 2, 1, 1, 2, 0, 0, 0, 0, 1, 2, 1, 1, 2, 0, 2,\n",
       "       0, 2, 2, 2, 2, 2, 0, 0, 0, 0, 1, 0, 0, 2, 1, 0, 0, 0, 2, 1, 1, 0,\n",
       "       0])"
      ]
     },
     "execution_count": 51,
     "metadata": {},
     "output_type": "execute_result"
    }
   ],
   "source": [
    "pred = rt.predict(X_test)\n",
    "pred"
   ]
  },
  {
   "cell_type": "code",
   "execution_count": 52,
   "metadata": {},
   "outputs": [
    {
     "data": {
      "text/plain": [
       "1.0"
      ]
     },
     "execution_count": 52,
     "metadata": {},
     "output_type": "execute_result"
    }
   ],
   "source": [
    "from sklearn.metrics import accuracy_score\n",
    "\n",
    "accuracy_score(y_test, pred)"
   ]
  },
  {
   "cell_type": "code",
   "execution_count": 53,
   "metadata": {},
   "outputs": [
    {
     "data": {
      "text/plain": [
       "(array([], dtype=int64),)"
      ]
     },
     "execution_count": 53,
     "metadata": {},
     "output_type": "execute_result"
    }
   ],
   "source": [
    "import numpy as np\n",
    "\n",
    "np.where(pred!=y_test)"
   ]
  },
  {
   "cell_type": "code",
   "execution_count": 54,
   "metadata": {},
   "outputs": [
    {
     "data": {
      "text/plain": [
       "array([[19,  0,  0],\n",
       "       [ 0, 13,  0],\n",
       "       [ 0,  0, 13]], dtype=int64)"
      ]
     },
     "execution_count": 54,
     "metadata": {},
     "output_type": "execute_result"
    }
   ],
   "source": [
    "from sklearn.metrics import confusion_matrix\n",
    "c_m = confusion_matrix(y_test, pred)\n",
    "c_m"
   ]
  },
  {
   "cell_type": "code",
   "execution_count": 55,
   "metadata": {},
   "outputs": [
    {
     "data": {
      "image/png": "[encoded data removed]",
      "text/plain": [
       "<Figure size 640x480 with 2 Axes>"
      ]
     },
     "metadata": {},
     "output_type": "display_data"
    }
   ],
   "source": [
    "import seaborn as sb\n",
    "import matplotlib.pyplot as plt\n",
    "\n",
    "sb.heatmap(c_m, annot= True)\n",
    "plt.show()"
   ]
  },
  {
   "cell_type": "code",
   "execution_count": null,
   "metadata": {},
   "outputs": [],
   "source": []
  }
 ],
 "metadata": {
  "kernelspec": {
   "display_name": "base",
   "language": "python",
   "name": "python3"
  },
  "language_info": {
   "codemirror_mode": {
    "name": "ipython",
    "version": 3
   },
   "file_extension": ".py",
   "mimetype": "text/x-python",
   "name": "python",
   "nbconvert_exporter": "python",
   "pygments_lexer": "ipython3",
   "version": "3.11.7"
  }
 },
 "nbformat": 4,
 "nbformat_minor": 2
}
