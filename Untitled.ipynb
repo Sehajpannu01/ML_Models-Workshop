{
 "cells": [
  {
   "cell_type": "code",
   "execution_count": 1,
   "id": "4930a9d6-4181-4876-b52e-82e70198f503",
   "metadata": {},
   "outputs": [],
   "source": [
    "import pickle"
   ]
  },
  {
   "cell_type": "code",
   "execution_count": null,
   "id": "c6977e35-3633-4fcd-880c-646cca63325f",
   "metadata": {},
   "outputs": [],
   "source": [
    "pickle.dump(knn, open(\"iris.pkl\", 'wb'))"
   ]
  },
  {
   "cell_type": "code",
   "execution_count": null,
   "id": "b7ba1492-9f60-48af-b464-366f9e8633b0",
   "metadata": {},
   "outputs": [],
   "source": [
    "model = pickle.load(open('iris.pkl', 'rb'))"
   ]
  },
  {
   "cell_type": "code",
   "execution_count": null,
   "id": "a28d91b0-3b42-4b14-9316-bd5d9a0de1ad",
   "metadata": {},
   "outputs": [],
   "source": []
  }
 ],
 "metadata": {
  "kernelspec": {
   "display_name": "Python 3 (ipykernel)",
   "language": "python",
   "name": "python3"
  },
  "language_info": {
   "codemirror_mode": {
    "name": "ipython",
    "version": 3
   },
   "file_extension": ".py",
   "mimetype": "text/x-python",
   "name": "python",
   "nbconvert_exporter": "python",
   "pygments_lexer": "ipython3",
   "version": "3.12.3"
  }
 },
 "nbformat": 4,
 "nbformat_minor": 5
}
