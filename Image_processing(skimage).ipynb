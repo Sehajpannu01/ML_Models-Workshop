{
 "cells": [
  {
   "cell_type": "markdown",
   "id": "4c3f8bba-a347-4950-94dc-777026b0b79f",
   "metadata": {
    "tags": []
   },
   "source": [
    "- skimage (scikit-image) is a Python library designed for image processing. It provides a collection of algorithms and utilities for tasks such as image filtering, segmentation, feature extraction, and transformation. The library is built on top of NumPy and integrates well with other scientific computing libraries, making it a popular choice for image analysis in research and development. It is open-source and freely available, encouraging contributions from the community."
   ]
  },
  {
   "cell_type": "code",
   "execution_count": 18,
   "id": "ffb2a64e-d11d-427b-bae3-42b2a1fb6ef0",
   "metadata": {
    "tags": []
   },
   "outputs": [],
   "source": [
    "#Need convert an image to 2d from 3d before passing it to the algorithm (Manual effor)\n",
    "from skimage import io  #to read image\n",
    "import matplotlib.pyplot as plt"
   ]
  },
  {
   "cell_type": "code",
   "execution_count": 5,
   "id": "1c9ca70a-e4f5-4cff-a8a4-4ec2a34fa434",
   "metadata": {
    "tags": []
   },
   "outputs": [],
   "source": [
    "f = io.imread(\"Assets/digit.png\")"
   ]
  },
  {
   "cell_type": "code",
   "execution_count": 7,
   "id": "1e70562b-ceb4-435d-87de-bd70e977f1a5",
   "metadata": {
    "tags": []
   },
   "outputs": [
    {
     "data": {
      "text/plain": [
       "array([[[255, 255, 255, 255],\n",
       "        [255, 255, 255, 255],\n",
       "        [255, 255, 255, 255],\n",
       "        ...,\n",
       "        [255, 255, 255, 255],\n",
       "        [255, 255, 255, 255],\n",
       "        [255, 255, 255, 255]],\n",
       "\n",
       "       [[255, 255, 255, 255],\n",
       "        [255, 255, 255, 255],\n",
       "        [255, 255, 255, 255],\n",
       "        ...,\n",
       "        [255, 255, 255, 255],\n",
       "        [255, 255, 255, 255],\n",
       "        [255, 255, 255, 255]],\n",
       "\n",
       "       [[255, 255, 255, 255],\n",
       "        [255, 255, 255, 255],\n",
       "        [255, 255, 255, 255],\n",
       "        ...,\n",
       "        [255, 255, 255, 255],\n",
       "        [255, 255, 255, 255],\n",
       "        [255, 255, 255, 255]],\n",
       "\n",
       "       ...,\n",
       "\n",
       "       [[255, 255, 255, 255],\n",
       "        [255, 255, 255, 255],\n",
       "        [255, 255, 255, 255],\n",
       "        ...,\n",
       "        [255, 255, 255, 255],\n",
       "        [255, 255, 255, 255],\n",
       "        [255, 255, 255, 255]],\n",
       "\n",
       "       [[255, 255, 255, 255],\n",
       "        [255, 255, 255, 255],\n",
       "        [255, 255, 255, 255],\n",
       "        ...,\n",
       "        [255, 255, 255, 255],\n",
       "        [255, 255, 255, 255],\n",
       "        [255, 255, 255, 255]],\n",
       "\n",
       "       [[255, 255, 255, 255],\n",
       "        [255, 255, 255, 255],\n",
       "        [255, 255, 255, 255],\n",
       "        ...,\n",
       "        [255, 255, 255, 255],\n",
       "        [255, 255, 255, 255],\n",
       "        [255, 255, 255, 255]]], dtype=uint8)"
      ]
     },
     "execution_count": 7,
     "metadata": {},
     "output_type": "execute_result"
    }
   ],
   "source": [
    "f"
   ]
  },
  {
   "cell_type": "code",
   "execution_count": 9,
   "id": "c65cfcbd-890f-4701-9681-4e8d19aca284",
   "metadata": {
    "tags": []
   },
   "outputs": [
    {
     "data": {
      "text/plain": [
       "numpy.ndarray"
      ]
     },
     "execution_count": 9,
     "metadata": {},
     "output_type": "execute_result"
    }
   ],
   "source": [
    "type(f)"
   ]
  },
  {
   "cell_type": "code",
   "execution_count": 11,
   "id": "45e3bfde-e437-4979-9d41-417833e299e1",
   "metadata": {
    "tags": []
   },
   "outputs": [
    {
     "data": {
      "text/plain": [
       "(502, 286, 4)"
      ]
     },
     "execution_count": 11,
     "metadata": {},
     "output_type": "execute_result"
    }
   ],
   "source": [
    "f.shape"
   ]
  },
  {
   "cell_type": "code",
   "execution_count": 13,
   "id": "e76919ce-f95a-427f-8842-03778c1194a7",
   "metadata": {
    "tags": []
   },
   "outputs": [
    {
     "data": {
      "text/plain": [
       "3"
      ]
     },
     "execution_count": 13,
     "metadata": {},
     "output_type": "execute_result"
    }
   ],
   "source": [
    "f.ndim"
   ]
  },
  {
   "cell_type": "code",
   "execution_count": 20,
   "id": "c0b09c57-53a6-42a3-9d19-40bfa483cdb6",
   "metadata": {
    "tags": []
   },
   "outputs": [
    {
     "data": {
      "image/png": "[encoded data removed]",
      "text/plain": [
       "<Figure size 640x480 with 1 Axes>"
      ]
     },
     "metadata": {},
     "output_type": "display_data"
    }
   ],
   "source": [
    "plt.imshow(f)\n",
    "plt.show()"
   ]
  },
  {
   "cell_type": "code",
   "execution_count": 22,
   "id": "c9ae7c68-97d9-4d44-ad6f-011af2d812af",
   "metadata": {
    "tags": []
   },
   "outputs": [],
   "source": [
    "# Need to convert it to 2d"
   ]
  },
  {
   "cell_type": "code",
   "execution_count": 24,
   "id": "0c5252fc-5a3e-490a-8882-e2904ec72c73",
   "metadata": {
    "tags": []
   },
   "outputs": [],
   "source": [
    "f = io.imread(\"Assets/digit.png\", as_gray = True)"
   ]
  },
  {
   "cell_type": "code",
   "execution_count": 26,
   "id": "4c55ab8b-76a2-428d-8072-f752cc6d7980",
   "metadata": {
    "tags": []
   },
   "outputs": [
    {
     "data": {
      "text/plain": [
       "array([[1., 1., 1., ..., 1., 1., 1.],\n",
       "       [1., 1., 1., ..., 1., 1., 1.],\n",
       "       [1., 1., 1., ..., 1., 1., 1.],\n",
       "       ...,\n",
       "       [1., 1., 1., ..., 1., 1., 1.],\n",
       "       [1., 1., 1., ..., 1., 1., 1.],\n",
       "       [1., 1., 1., ..., 1., 1., 1.]])"
      ]
     },
     "execution_count": 26,
     "metadata": {},
     "output_type": "execute_result"
    }
   ],
   "source": [
    "f"
   ]
  },
  {
   "cell_type": "code",
   "execution_count": 28,
   "id": "fa7b67e7-2f8f-469a-baa0-f9e1d0cc65b0",
   "metadata": {
    "tags": []
   },
   "outputs": [
    {
     "data": {
      "text/plain": [
       "2"
      ]
     },
     "execution_count": 28,
     "metadata": {},
     "output_type": "execute_result"
    }
   ],
   "source": [
    "f.ndim"
   ]
  },
  {
   "cell_type": "code",
   "execution_count": 30,
   "id": "09b6f429-deef-42e9-bfe5-a369f5d8a43a",
   "metadata": {
    "tags": []
   },
   "outputs": [
    {
     "data": {
      "text/plain": [
       "(502, 286)"
      ]
     },
     "execution_count": 30,
     "metadata": {},
     "output_type": "execute_result"
    }
   ],
   "source": [
    "f.shape"
   ]
  },
  {
   "cell_type": "code",
   "execution_count": 32,
   "id": "a3924ebf-aa98-43bb-a471-fb32bbfea5ad",
   "metadata": {
    "tags": []
   },
   "outputs": [
    {
     "data": {
      "image/png": "[encoded data removed]",
      "text/plain": [
       "<Figure size 640x480 with 1 Axes>"
      ]
     },
     "metadata": {},
     "output_type": "display_data"
    }
   ],
   "source": [
    "plt.imshow(f)\n",
    "plt.show()"
   ]
  },
  {
   "cell_type": "code",
   "execution_count": null,
   "id": "16758c7a-28d2-4ae6-b699-148b6882b0a9",
   "metadata": {},
   "outputs": [],
   "source": []
  }
 ],
 "metadata": {
  "kernelspec": {
   "display_name": "Python 3 (ipykernel)",
   "language": "python",
   "name": "python3"
  },
  "language_info": {
   "codemirror_mode": {
    "name": "ipython",
    "version": 3
   },
   "file_extension": ".py",
   "mimetype": "text/x-python",
   "name": "python",
   "nbconvert_exporter": "python",
   "pygments_lexer": "ipython3",
   "version": "3.12.3"
  }
 },
 "nbformat": 4,
 "nbformat_minor": 5
}
