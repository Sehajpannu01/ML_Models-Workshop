{
 "cells": [
  {
   "cell_type": "markdown",
   "id": "a1403f89-6779-4681-861a-0033b1603beb",
   "metadata": {},
   "source": [
    "# Classification based learning: KNN (K-nearest neighbour)\n",
    "- KNN stands for k-nearest neighbor algorithm where k denotes the number of nearest neighbors considered while training a model.\n",
    "- It is a surpervised learning algorithm mainly used for classification problems."
   ]
  },
  {
   "cell_type": "markdown",
   "id": "43fab323-6fef-4b73-b755-e7ad0fa7c7b9",
   "metadata": {},
   "source": [
    "# Classification based learning: Logistic Regression"
   ]
  },
  {
   "cell_type": "markdown",
   "id": "f8cd4ac8-fd5d-415e-9d6f-d17f60b8e330",
   "metadata": {},
   "source": [
    "- It is used for solving classification problem.\n",
    "- Firstly it solves the regression problem then convert it into classification.\n",
    "- It also provides the probability of prediction.\n",
    "- Sigmoid and Softmax fucntion are used to convert to classification."
   ]
  },
  {
   "cell_type": "markdown",
   "id": "4b56b1b1-cdb1-47dd-9e86-fe2c4d279c1d",
   "metadata": {},
   "source": [
    "-----------------------------------------------------------------------------\n",
    "### Binary Class Classification\n",
    "- Only two class instances are present in the dataset.\n",
    "- Confusion matrix are easy to derive and understand.\n",
    "- Example: Check email is spam or not, predicting gender based on height and weight.\n",
    "\n",
    "### Multi-Class Classification\n",
    "- Multiple class labels are present in the dataset.\n",
    "- The number of classifier models depends on the classification technique we are applying to.\n",
    "- One vs All - N-class instances then N binary classifier models.\n",
    "- One vs One - N-class instances then N*(N-1)/2 binary classifier models.\n",
    "- Example - Check whether the fruit is Apple, Banana, or orange."
   ]
  },
  {
   "cell_type": "code",
   "execution_count": null,
   "id": "56d674fd-603c-4eb3-8e93-faa9243cf612",
   "metadata": {},
   "outputs": [],
   "source": []
  }
 ],
 "metadata": {
  "kernelspec": {
   "display_name": "Python 3 (ipykernel)",
   "language": "python",
   "name": "python3"
  },
  "language_info": {
   "codemirror_mode": {
    "name": "ipython",
    "version": 3
   },
   "file_extension": ".py",
   "mimetype": "text/x-python",
   "name": "python",
   "nbconvert_exporter": "python",
   "pygments_lexer": "ipython3",
   "version": "3.12.3"
  }
 },
 "nbformat": 4,
 "nbformat_minor": 5
}
