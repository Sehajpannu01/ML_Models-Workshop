{
 "cells": [
  {
   "cell_type": "code",
   "execution_count": null,
   "id": "052d406e-3f67-41b9-a586-15d3bfec6a68",
   "metadata": {},
   "outputs": [],
   "source": [
    "#write  test results AREA File given by sir"
   ]
  }
 ],
 "metadata": {
  "kernelspec": {
   "display_name": "Python 3 (ipykernel)",
   "language": "python",
   "name": "python3"
  },
  "language_info": {
   "codemirror_mode": {
    "name": "ipython",
    "version": 3
   },
   "file_extension": ".py",
   "mimetype": "text/x-python",
   "name": "python",
   "nbconvert_exporter": "python",
   "pygments_lexer": "ipython3",
   "version": "3.12.3"
  }
 },
 "nbformat": 4,
 "nbformat_minor": 5
}
