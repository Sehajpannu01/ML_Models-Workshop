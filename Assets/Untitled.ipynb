{
 "cells": [
  {
   "cell_type": "code",
   "execution_count": 298,
   "id": "581a60ad-09fd-41e0-984b-ed6b624b4c7c",
   "metadata": {
    "tags": []
   },
   "outputs": [],
   "source": [
    "import pandas as pd\n",
    "import numpy as np\n",
    "import matplotlib.pyplot as plt\n",
    "import re\n",
    "import warnings\n",
    "warnings.simplefilter(\"ignore\")\n",
    "import math\n"
   ]
  },
  {
   "cell_type": "code",
   "execution_count": 49,
   "id": "e9295d8c-bf18-44d8-a011-0034fa201280",
   "metadata": {
    "tags": []
   },
   "outputs": [
    {
     "data": {
      "text/html": [
       "<div>\n",
       "<style scoped>\n",
       "    .dataframe tbody tr th:only-of-type {\n",
       "        vertical-align: middle;\n",
       "    }\n",
       "\n",
       "    .dataframe tbody tr th {\n",
       "        vertical-align: top;\n",
       "    }\n",
       "\n",
       "    .dataframe thead th {\n",
       "        text-align: right;\n",
       "    }\n",
       "</style>\n",
       "<table border=\"1\" class=\"dataframe\">\n",
       "  <thead>\n",
       "    <tr style=\"text-align: right;\">\n",
       "      <th></th>\n",
       "      <th>GPA</th>\n",
       "      <th>Gender</th>\n",
       "      <th>breakfast</th>\n",
       "      <th>calories_chicken</th>\n",
       "      <th>calories_day</th>\n",
       "      <th>calories_scone</th>\n",
       "      <th>coffee</th>\n",
       "      <th>comfort_food</th>\n",
       "      <th>comfort_food_reasons</th>\n",
       "      <th>comfort_food_reasons_coded</th>\n",
       "      <th>...</th>\n",
       "      <th>soup</th>\n",
       "      <th>sports</th>\n",
       "      <th>thai_food</th>\n",
       "      <th>tortilla_calories</th>\n",
       "      <th>turkey_calories</th>\n",
       "      <th>type_sports</th>\n",
       "      <th>veggies_day</th>\n",
       "      <th>vitamins</th>\n",
       "      <th>waffle_calories</th>\n",
       "      <th>weight</th>\n",
       "    </tr>\n",
       "  </thead>\n",
       "  <tbody>\n",
       "    <tr>\n",
       "      <th>0</th>\n",
       "      <td>2.4</td>\n",
       "      <td>2</td>\n",
       "      <td>1</td>\n",
       "      <td>430</td>\n",
       "      <td>NaN</td>\n",
       "      <td>315.0</td>\n",
       "      <td>1</td>\n",
       "      <td>none</td>\n",
       "      <td>we dont have comfort</td>\n",
       "      <td>9.0</td>\n",
       "      <td>...</td>\n",
       "      <td>1.0</td>\n",
       "      <td>1.0</td>\n",
       "      <td>1</td>\n",
       "      <td>1165.0</td>\n",
       "      <td>345</td>\n",
       "      <td>car racing</td>\n",
       "      <td>5</td>\n",
       "      <td>1</td>\n",
       "      <td>1315</td>\n",
       "      <td>187</td>\n",
       "    </tr>\n",
       "    <tr>\n",
       "      <th>1</th>\n",
       "      <td>3.654</td>\n",
       "      <td>1</td>\n",
       "      <td>1</td>\n",
       "      <td>610</td>\n",
       "      <td>3.0</td>\n",
       "      <td>420.0</td>\n",
       "      <td>2</td>\n",
       "      <td>chocolate, chips, ice cream</td>\n",
       "      <td>Stress, bored, anger</td>\n",
       "      <td>1.0</td>\n",
       "      <td>...</td>\n",
       "      <td>1.0</td>\n",
       "      <td>1.0</td>\n",
       "      <td>2</td>\n",
       "      <td>725.0</td>\n",
       "      <td>690</td>\n",
       "      <td>Basketball</td>\n",
       "      <td>4</td>\n",
       "      <td>2</td>\n",
       "      <td>900</td>\n",
       "      <td>155</td>\n",
       "    </tr>\n",
       "    <tr>\n",
       "      <th>2</th>\n",
       "      <td>3.3</td>\n",
       "      <td>1</td>\n",
       "      <td>1</td>\n",
       "      <td>720</td>\n",
       "      <td>4.0</td>\n",
       "      <td>420.0</td>\n",
       "      <td>2</td>\n",
       "      <td>frozen yogurt, pizza, fast food</td>\n",
       "      <td>stress, sadness</td>\n",
       "      <td>1.0</td>\n",
       "      <td>...</td>\n",
       "      <td>1.0</td>\n",
       "      <td>2.0</td>\n",
       "      <td>5</td>\n",
       "      <td>1165.0</td>\n",
       "      <td>500</td>\n",
       "      <td>none</td>\n",
       "      <td>5</td>\n",
       "      <td>1</td>\n",
       "      <td>900</td>\n",
       "      <td>I'm not answering this.</td>\n",
       "    </tr>\n",
       "    <tr>\n",
       "      <th>3</th>\n",
       "      <td>3.2</td>\n",
       "      <td>1</td>\n",
       "      <td>1</td>\n",
       "      <td>430</td>\n",
       "      <td>3.0</td>\n",
       "      <td>420.0</td>\n",
       "      <td>2</td>\n",
       "      <td>Pizza, Mac and cheese, ice cream</td>\n",
       "      <td>Boredom</td>\n",
       "      <td>2.0</td>\n",
       "      <td>...</td>\n",
       "      <td>1.0</td>\n",
       "      <td>2.0</td>\n",
       "      <td>5</td>\n",
       "      <td>725.0</td>\n",
       "      <td>690</td>\n",
       "      <td>NaN</td>\n",
       "      <td>3</td>\n",
       "      <td>1</td>\n",
       "      <td>1315</td>\n",
       "      <td>Not sure, 240</td>\n",
       "    </tr>\n",
       "    <tr>\n",
       "      <th>4</th>\n",
       "      <td>3.5</td>\n",
       "      <td>1</td>\n",
       "      <td>1</td>\n",
       "      <td>720</td>\n",
       "      <td>2.0</td>\n",
       "      <td>420.0</td>\n",
       "      <td>2</td>\n",
       "      <td>Ice cream, chocolate, chips</td>\n",
       "      <td>Stress, boredom, cravings</td>\n",
       "      <td>1.0</td>\n",
       "      <td>...</td>\n",
       "      <td>1.0</td>\n",
       "      <td>1.0</td>\n",
       "      <td>4</td>\n",
       "      <td>940.0</td>\n",
       "      <td>500</td>\n",
       "      <td>Softball</td>\n",
       "      <td>4</td>\n",
       "      <td>2</td>\n",
       "      <td>760</td>\n",
       "      <td>190</td>\n",
       "    </tr>\n",
       "    <tr>\n",
       "      <th>...</th>\n",
       "      <td>...</td>\n",
       "      <td>...</td>\n",
       "      <td>...</td>\n",
       "      <td>...</td>\n",
       "      <td>...</td>\n",
       "      <td>...</td>\n",
       "      <td>...</td>\n",
       "      <td>...</td>\n",
       "      <td>...</td>\n",
       "      <td>...</td>\n",
       "      <td>...</td>\n",
       "      <td>...</td>\n",
       "      <td>...</td>\n",
       "      <td>...</td>\n",
       "      <td>...</td>\n",
       "      <td>...</td>\n",
       "      <td>...</td>\n",
       "      <td>...</td>\n",
       "      <td>...</td>\n",
       "      <td>...</td>\n",
       "      <td>...</td>\n",
       "    </tr>\n",
       "    <tr>\n",
       "      <th>120</th>\n",
       "      <td>3.5</td>\n",
       "      <td>1</td>\n",
       "      <td>1</td>\n",
       "      <td>610</td>\n",
       "      <td>4.0</td>\n",
       "      <td>420.0</td>\n",
       "      <td>2</td>\n",
       "      <td>wine. mac and cheese, pizza, ice cream</td>\n",
       "      <td>boredom and sadness</td>\n",
       "      <td>NaN</td>\n",
       "      <td>...</td>\n",
       "      <td>1.0</td>\n",
       "      <td>1.0</td>\n",
       "      <td>5</td>\n",
       "      <td>940.0</td>\n",
       "      <td>500</td>\n",
       "      <td>Softball</td>\n",
       "      <td>5</td>\n",
       "      <td>1</td>\n",
       "      <td>1315</td>\n",
       "      <td>156</td>\n",
       "    </tr>\n",
       "    <tr>\n",
       "      <th>121</th>\n",
       "      <td>3</td>\n",
       "      <td>1</td>\n",
       "      <td>1</td>\n",
       "      <td>265</td>\n",
       "      <td>2.0</td>\n",
       "      <td>315.0</td>\n",
       "      <td>2</td>\n",
       "      <td>Pizza / Wings / Cheesecake</td>\n",
       "      <td>Loneliness / Homesick / Sadness</td>\n",
       "      <td>NaN</td>\n",
       "      <td>...</td>\n",
       "      <td>1.0</td>\n",
       "      <td>NaN</td>\n",
       "      <td>4</td>\n",
       "      <td>940.0</td>\n",
       "      <td>500</td>\n",
       "      <td>basketball</td>\n",
       "      <td>5</td>\n",
       "      <td>2</td>\n",
       "      <td>1315</td>\n",
       "      <td>180</td>\n",
       "    </tr>\n",
       "    <tr>\n",
       "      <th>122</th>\n",
       "      <td>3.882</td>\n",
       "      <td>1</td>\n",
       "      <td>1</td>\n",
       "      <td>720</td>\n",
       "      <td>NaN</td>\n",
       "      <td>420.0</td>\n",
       "      <td>1</td>\n",
       "      <td>rice, potato, seaweed soup</td>\n",
       "      <td>sadness</td>\n",
       "      <td>NaN</td>\n",
       "      <td>...</td>\n",
       "      <td>1.0</td>\n",
       "      <td>2.0</td>\n",
       "      <td>5</td>\n",
       "      <td>580.0</td>\n",
       "      <td>690</td>\n",
       "      <td>none</td>\n",
       "      <td>4</td>\n",
       "      <td>2</td>\n",
       "      <td>1315</td>\n",
       "      <td>120</td>\n",
       "    </tr>\n",
       "    <tr>\n",
       "      <th>123</th>\n",
       "      <td>3</td>\n",
       "      <td>2</td>\n",
       "      <td>1</td>\n",
       "      <td>720</td>\n",
       "      <td>4.0</td>\n",
       "      <td>420.0</td>\n",
       "      <td>1</td>\n",
       "      <td>Mac n Cheese, Lasagna, Pizza</td>\n",
       "      <td>happiness, they are some of my favorite foods</td>\n",
       "      <td>NaN</td>\n",
       "      <td>...</td>\n",
       "      <td>2.0</td>\n",
       "      <td>2.0</td>\n",
       "      <td>1</td>\n",
       "      <td>940.0</td>\n",
       "      <td>500</td>\n",
       "      <td>NaN</td>\n",
       "      <td>3</td>\n",
       "      <td>1</td>\n",
       "      <td>1315</td>\n",
       "      <td>135</td>\n",
       "    </tr>\n",
       "    <tr>\n",
       "      <th>124</th>\n",
       "      <td>3.9</td>\n",
       "      <td>1</td>\n",
       "      <td>1</td>\n",
       "      <td>430</td>\n",
       "      <td>NaN</td>\n",
       "      <td>315.0</td>\n",
       "      <td>2</td>\n",
       "      <td>Chocolates, pizza, and Ritz.</td>\n",
       "      <td>hormones, Premenstrual syndrome.</td>\n",
       "      <td>NaN</td>\n",
       "      <td>...</td>\n",
       "      <td>1.0</td>\n",
       "      <td>2.0</td>\n",
       "      <td>2</td>\n",
       "      <td>725.0</td>\n",
       "      <td>345</td>\n",
       "      <td>NaN</td>\n",
       "      <td>4</td>\n",
       "      <td>2</td>\n",
       "      <td>575</td>\n",
       "      <td>135</td>\n",
       "    </tr>\n",
       "  </tbody>\n",
       "</table>\n",
       "<p>125 rows × 61 columns</p>\n",
       "</div>"
      ],
      "text/plain": [
       "       GPA  Gender  breakfast  calories_chicken  calories_day  calories_scone  \\\n",
       "0      2.4       2          1               430           NaN           315.0   \n",
       "1    3.654       1          1               610           3.0           420.0   \n",
       "2      3.3       1          1               720           4.0           420.0   \n",
       "3      3.2       1          1               430           3.0           420.0   \n",
       "4      3.5       1          1               720           2.0           420.0   \n",
       "..     ...     ...        ...               ...           ...             ...   \n",
       "120    3.5       1          1               610           4.0           420.0   \n",
       "121      3       1          1               265           2.0           315.0   \n",
       "122  3.882       1          1               720           NaN           420.0   \n",
       "123      3       2          1               720           4.0           420.0   \n",
       "124    3.9       1          1               430           NaN           315.0   \n",
       "\n",
       "     coffee                             comfort_food  \\\n",
       "0         1                                     none   \n",
       "1         2              chocolate, chips, ice cream   \n",
       "2         2          frozen yogurt, pizza, fast food   \n",
       "3         2         Pizza, Mac and cheese, ice cream   \n",
       "4         2             Ice cream, chocolate, chips    \n",
       "..      ...                                      ...   \n",
       "120       2  wine. mac and cheese, pizza, ice cream    \n",
       "121       2               Pizza / Wings / Cheesecake   \n",
       "122       1               rice, potato, seaweed soup   \n",
       "123       1             Mac n Cheese, Lasagna, Pizza   \n",
       "124       2             Chocolates, pizza, and Ritz.   \n",
       "\n",
       "                              comfort_food_reasons  \\\n",
       "0                            we dont have comfort    \n",
       "1                             Stress, bored, anger   \n",
       "2                                  stress, sadness   \n",
       "3                                          Boredom   \n",
       "4                       Stress, boredom, cravings    \n",
       "..                                             ...   \n",
       "120                           boredom and sadness    \n",
       "121                Loneliness / Homesick / Sadness   \n",
       "122                                        sadness   \n",
       "123  happiness, they are some of my favorite foods   \n",
       "124               hormones, Premenstrual syndrome.   \n",
       "\n",
       "     comfort_food_reasons_coded  ...  soup  sports  thai_food  \\\n",
       "0                           9.0  ...   1.0     1.0          1   \n",
       "1                           1.0  ...   1.0     1.0          2   \n",
       "2                           1.0  ...   1.0     2.0          5   \n",
       "3                           2.0  ...   1.0     2.0          5   \n",
       "4                           1.0  ...   1.0     1.0          4   \n",
       "..                          ...  ...   ...     ...        ...   \n",
       "120                         NaN  ...   1.0     1.0          5   \n",
       "121                         NaN  ...   1.0     NaN          4   \n",
       "122                         NaN  ...   1.0     2.0          5   \n",
       "123                         NaN  ...   2.0     2.0          1   \n",
       "124                         NaN  ...   1.0     2.0          2   \n",
       "\n",
       "    tortilla_calories  turkey_calories  type_sports veggies_day  vitamins  \\\n",
       "0              1165.0              345   car racing           5         1   \n",
       "1               725.0              690  Basketball            4         2   \n",
       "2              1165.0              500         none           5         1   \n",
       "3               725.0              690          NaN           3         1   \n",
       "4               940.0              500     Softball           4         2   \n",
       "..                ...              ...          ...         ...       ...   \n",
       "120             940.0              500     Softball           5         1   \n",
       "121             940.0              500  basketball            5         2   \n",
       "122             580.0              690         none           4         2   \n",
       "123             940.0              500          NaN           3         1   \n",
       "124             725.0              345          NaN           4         2   \n",
       "\n",
       "     waffle_calories                    weight  \n",
       "0               1315                       187  \n",
       "1                900                       155  \n",
       "2                900  I'm not answering this.   \n",
       "3               1315             Not sure, 240  \n",
       "4                760                       190  \n",
       "..               ...                       ...  \n",
       "120             1315                       156  \n",
       "121             1315                       180  \n",
       "122             1315                       120  \n",
       "123             1315                       135  \n",
       "124              575                       135  \n",
       "\n",
       "[125 rows x 61 columns]"
      ]
     },
     "execution_count": 49,
     "metadata": {},
     "output_type": "execute_result"
    }
   ],
   "source": [
    "df = pd.read_csv('food_coded.csv')\n",
    "df"
   ]
  },
  {
   "cell_type": "code",
   "execution_count": 91,
   "id": "6ff95f1f-abcf-497d-9cf5-0ab744f5b4b5",
   "metadata": {
    "tags": []
   },
   "outputs": [
    {
     "data": {
      "text/plain": [
       "GPA                  2\n",
       "Gender               0\n",
       "breakfast            0\n",
       "calories_chicken     0\n",
       "calories_day        19\n",
       "                    ..\n",
       "type_sports         26\n",
       "veggies_day          0\n",
       "vitamins             0\n",
       "waffle_calories      0\n",
       "weight               2\n",
       "Length: 61, dtype: int64"
      ]
     },
     "execution_count": 91,
     "metadata": {},
     "output_type": "execute_result"
    }
   ],
   "source": [
    "df.isnull().sum()"
   ]
  },
  {
   "cell_type": "code",
   "execution_count": 65,
   "id": "a289fef4-6ff0-4e36-b9c8-7c0b1991ac85",
   "metadata": {
    "tags": []
   },
   "outputs": [
    {
     "data": {
      "text/plain": [
       "Index(['GPA', 'Gender', 'breakfast', 'calories_chicken', 'calories_day',\n",
       "       'calories_scone', 'coffee', 'comfort_food', 'comfort_food_reasons',\n",
       "       'comfort_food_reasons_coded', 'cook', 'comfort_food_reasons_coded.1',\n",
       "       'cuisine', 'diet_current', 'diet_current_coded', 'drink',\n",
       "       'eating_changes', 'eating_changes_coded', 'eating_changes_coded1',\n",
       "       'eating_out', 'employment', 'ethnic_food', 'exercise',\n",
       "       'father_education', 'father_profession', 'fav_cuisine',\n",
       "       'fav_cuisine_coded', 'fav_food', 'food_childhood', 'fries', 'fruit_day',\n",
       "       'grade_level', 'greek_food', 'healthy_feeling', 'healthy_meal',\n",
       "       'ideal_diet', 'ideal_diet_coded', 'income', 'indian_food',\n",
       "       'italian_food', 'life_rewarding', 'marital_status',\n",
       "       'meals_dinner_friend', 'mother_education', 'mother_profession',\n",
       "       'nutritional_check', 'on_off_campus', 'parents_cook', 'pay_meal_out',\n",
       "       'persian_food', 'self_perception_weight', 'soup', 'sports', 'thai_food',\n",
       "       'tortilla_calories', 'turkey_calories', 'type_sports', 'veggies_day',\n",
       "       'vitamins', 'waffle_calories', 'weight'],\n",
       "      dtype='object')"
      ]
     },
     "execution_count": 65,
     "metadata": {},
     "output_type": "execute_result"
    }
   ],
   "source": [
    "df.columns"
   ]
  },
  {
   "cell_type": "code",
   "execution_count": 99,
   "id": "fb031088-0a64-4642-af23-de7c874a4163",
   "metadata": {
    "tags": []
   },
   "outputs": [
    {
     "data": {
      "text/plain": [
       "610.0"
      ]
     },
     "execution_count": 99,
     "metadata": {},
     "output_type": "execute_result"
    }
   ],
   "source": [
    "m = df[\"calories_chicken\"].median()\n",
    "m"
   ]
  },
  {
   "cell_type": "code",
   "execution_count": 116,
   "id": "5d42e2dc-68bc-420c-ad87-c3012a214b92",
   "metadata": {
    "tags": []
   },
   "outputs": [],
   "source": [
    "df[\"calories_chicken\"]=df[\"calories_chicken\"].fillna(m)"
   ]
  },
  {
   "cell_type": "code",
   "execution_count": 118,
   "id": "6c69096d-9deb-4baf-a7e8-fa6169de05fc",
   "metadata": {
    "tags": []
   },
   "outputs": [
    {
     "data": {
      "text/plain": [
       "GPA                  2\n",
       "Gender               0\n",
       "breakfast            0\n",
       "calories_chicken     0\n",
       "calories_day        19\n",
       "                    ..\n",
       "type_sports         26\n",
       "veggies_day          0\n",
       "vitamins             0\n",
       "waffle_calories      0\n",
       "weight               2\n",
       "Length: 61, dtype: int64"
      ]
     },
     "execution_count": 118,
     "metadata": {},
     "output_type": "execute_result"
    }
   ],
   "source": [
    "df.isnull().sum()"
   ]
  },
  {
   "cell_type": "code",
   "execution_count": 128,
   "id": "1168d0dc-9c97-48f5-978b-86f041b459b0",
   "metadata": {
    "tags": []
   },
   "outputs": [],
   "source": [
    "m1 = df[\"calories_day\"].median()"
   ]
  },
  {
   "cell_type": "code",
   "execution_count": 132,
   "id": "88596e30-1015-44c4-a3ad-60fcba60adcb",
   "metadata": {
    "tags": []
   },
   "outputs": [],
   "source": [
    "df[\"calories_day\"] = df[\"calories_day\"].fillna(m1)"
   ]
  },
  {
   "cell_type": "code",
   "execution_count": 140,
   "id": "37f3d4cb-bedb-4ab2-9e14-2b81c116fc85",
   "metadata": {
    "tags": []
   },
   "outputs": [],
   "source": [
    "df[\"type_sports\"] = df[\"type_sports\"].ffill()"
   ]
  },
  {
   "cell_type": "code",
   "execution_count": 144,
   "id": "b2881fa9-c86f-4584-9b54-32adba575c59",
   "metadata": {
    "tags": []
   },
   "outputs": [
    {
     "data": {
      "text/plain": [
       "0                           187\n",
       "1                           155\n",
       "2      I'm not answering this. \n",
       "3                 Not sure, 240\n",
       "4                           190\n",
       "                 ...           \n",
       "120                         156\n",
       "121                         180\n",
       "122                         120\n",
       "123                         135\n",
       "124                         135\n",
       "Name: weight, Length: 125, dtype: object"
      ]
     },
     "execution_count": 144,
     "metadata": {},
     "output_type": "execute_result"
    }
   ],
   "source": [
    "df[\"weight\"]\n"
   ]
  },
  {
   "cell_type": "code",
   "execution_count": 238,
   "id": "9b49a624-765a-46f6-9582-2be4c37d808b",
   "metadata": {
    "tags": []
   },
   "outputs": [],
   "source": [
    "def clean_data(value):\n",
    "    if isinstance(value, str):\n",
    "        value = re.sub(r'\\D+','',value)\n",
    "        return int(value) if value else np.nan\n",
    "    return value\n",
    "\n",
    "df[\"weight\"] = df[\"weight\"].apply(clean_data)\n"
   ]
  },
  {
   "cell_type": "code",
   "execution_count": 152,
   "id": "ac0eacfd-e58d-491d-906e-6e5ba18c9f58",
   "metadata": {
    "tags": []
   },
   "outputs": [
    {
     "data": {
      "text/plain": [
       "0      187.0\n",
       "1      155.0\n",
       "2        NaN\n",
       "3      240.0\n",
       "4      190.0\n",
       "       ...  \n",
       "120    156.0\n",
       "121    180.0\n",
       "122    120.0\n",
       "123    135.0\n",
       "124    135.0\n",
       "Name: weight, Length: 125, dtype: float64"
      ]
     },
     "execution_count": 152,
     "metadata": {},
     "output_type": "execute_result"
    }
   ],
   "source": [
    "df['weight']"
   ]
  },
  {
   "cell_type": "code",
   "execution_count": 161,
   "id": "5df013fa-c9dc-4a2a-90be-9c91dd9e6147",
   "metadata": {
    "tags": []
   },
   "outputs": [
    {
     "data": {
      "text/plain": [
       "GPA                 2\n",
       "Gender              0\n",
       "breakfast           0\n",
       "calories_chicken    0\n",
       "calories_day        0\n",
       "                   ..\n",
       "type_sports         0\n",
       "veggies_day         0\n",
       "vitamins            0\n",
       "waffle_calories     0\n",
       "weight              3\n",
       "Length: 61, dtype: int64"
      ]
     },
     "execution_count": 161,
     "metadata": {},
     "output_type": "execute_result"
    }
   ],
   "source": [
    "df.isnull().sum()"
   ]
  },
  {
   "cell_type": "code",
   "execution_count": 177,
   "id": "81f32df5-1d1c-4015-a686-35285bf7ae73",
   "metadata": {
    "tags": []
   },
   "outputs": [],
   "source": [
    "df = df.dropna(subset = ['weight'])"
   ]
  },
  {
   "cell_type": "code",
   "execution_count": 179,
   "id": "de1f2fad-0fc2-4f65-b0b3-7967206fa1de",
   "metadata": {
    "tags": []
   },
   "outputs": [
    {
     "data": {
      "text/plain": [
       "GPA                 2\n",
       "Gender              0\n",
       "breakfast           0\n",
       "calories_chicken    0\n",
       "calories_day        0\n",
       "                   ..\n",
       "type_sports         0\n",
       "veggies_day         0\n",
       "vitamins            0\n",
       "waffle_calories     0\n",
       "weight              0\n",
       "Length: 61, dtype: int64"
      ]
     },
     "execution_count": 179,
     "metadata": {},
     "output_type": "execute_result"
    }
   ],
   "source": [
    "df.isnull().sum()"
   ]
  },
  {
   "cell_type": "code",
   "execution_count": 198,
   "id": "afc23f11-5bd5-460f-bc1e-7e343ee64c3e",
   "metadata": {
    "tags": []
   },
   "outputs": [
    {
     "name": "stdout",
     "output_type": "stream",
     "text": [
      "Index([15, 102], dtype='int64')\n"
     ]
    }
   ],
   "source": [
    "null_mask = df[\"GPA\"].isnull()\n",
    "null_index = df[null_mask].index\n",
    "print(null_index)"
   ]
  },
  {
   "cell_type": "code",
   "execution_count": 216,
   "id": "7a898314-143a-4ace-981c-039ce28cbb3b",
   "metadata": {
    "tags": []
   },
   "outputs": [
    {
     "data": {
      "text/html": [
       "<div>\n",
       "<style scoped>\n",
       "    .dataframe tbody tr th:only-of-type {\n",
       "        vertical-align: middle;\n",
       "    }\n",
       "\n",
       "    .dataframe tbody tr th {\n",
       "        vertical-align: top;\n",
       "    }\n",
       "\n",
       "    .dataframe thead th {\n",
       "        text-align: right;\n",
       "    }\n",
       "</style>\n",
       "<table border=\"1\" class=\"dataframe\">\n",
       "  <thead>\n",
       "    <tr style=\"text-align: right;\">\n",
       "      <th></th>\n",
       "      <th>GPA</th>\n",
       "      <th>Gender</th>\n",
       "      <th>breakfast</th>\n",
       "      <th>calories_chicken</th>\n",
       "      <th>calories_day</th>\n",
       "      <th>calories_scone</th>\n",
       "      <th>coffee</th>\n",
       "      <th>comfort_food</th>\n",
       "      <th>comfort_food_reasons</th>\n",
       "      <th>comfort_food_reasons_coded</th>\n",
       "      <th>...</th>\n",
       "      <th>soup</th>\n",
       "      <th>sports</th>\n",
       "      <th>thai_food</th>\n",
       "      <th>tortilla_calories</th>\n",
       "      <th>turkey_calories</th>\n",
       "      <th>type_sports</th>\n",
       "      <th>veggies_day</th>\n",
       "      <th>vitamins</th>\n",
       "      <th>waffle_calories</th>\n",
       "      <th>weight</th>\n",
       "    </tr>\n",
       "  </thead>\n",
       "  <tbody>\n",
       "    <tr>\n",
       "      <th>16</th>\n",
       "      <td>4</td>\n",
       "      <td>1</td>\n",
       "      <td>1</td>\n",
       "      <td>265</td>\n",
       "      <td>3.0</td>\n",
       "      <td>420.0</td>\n",
       "      <td>1</td>\n",
       "      <td>Saltfish, Candy and Kit Kat</td>\n",
       "      <td>Stress</td>\n",
       "      <td>1.0</td>\n",
       "      <td>...</td>\n",
       "      <td>1.0</td>\n",
       "      <td>2.0</td>\n",
       "      <td>1</td>\n",
       "      <td>580.0</td>\n",
       "      <td>345</td>\n",
       "      <td>Hockey</td>\n",
       "      <td>5</td>\n",
       "      <td>1</td>\n",
       "      <td>760</td>\n",
       "      <td>145.0</td>\n",
       "    </tr>\n",
       "    <tr>\n",
       "      <th>105</th>\n",
       "      <td>3</td>\n",
       "      <td>1</td>\n",
       "      <td>1</td>\n",
       "      <td>720</td>\n",
       "      <td>3.0</td>\n",
       "      <td>420.0</td>\n",
       "      <td>2</td>\n",
       "      <td>ice cream, chips, candy</td>\n",
       "      <td>Boredom, laziness, anger</td>\n",
       "      <td>2.0</td>\n",
       "      <td>...</td>\n",
       "      <td>2.0</td>\n",
       "      <td>1.0</td>\n",
       "      <td>3</td>\n",
       "      <td>1165.0</td>\n",
       "      <td>690</td>\n",
       "      <td>volleyball</td>\n",
       "      <td>2</td>\n",
       "      <td>2</td>\n",
       "      <td>1315</td>\n",
       "      <td>125.0</td>\n",
       "    </tr>\n",
       "  </tbody>\n",
       "</table>\n",
       "<p>2 rows × 61 columns</p>\n",
       "</div>"
      ],
      "text/plain": [
       "    GPA  Gender  breakfast  calories_chicken  calories_day  calories_scone  \\\n",
       "16    4       1          1               265           3.0           420.0   \n",
       "105   3       1          1               720           3.0           420.0   \n",
       "\n",
       "     coffee                  comfort_food      comfort_food_reasons  \\\n",
       "16        1  Saltfish, Candy and Kit Kat                    Stress    \n",
       "105       2       ice cream, chips, candy  Boredom, laziness, anger   \n",
       "\n",
       "     comfort_food_reasons_coded  ...  soup  sports  thai_food  \\\n",
       "16                          1.0  ...   1.0     2.0          1   \n",
       "105                         2.0  ...   2.0     1.0          3   \n",
       "\n",
       "    tortilla_calories  turkey_calories  type_sports veggies_day  vitamins  \\\n",
       "16              580.0              345       Hockey           5         1   \n",
       "105            1165.0              690   volleyball           2         2   \n",
       "\n",
       "     waffle_calories  weight  \n",
       "16               760   145.0  \n",
       "105             1315   125.0  \n",
       "\n",
       "[2 rows x 61 columns]"
      ]
     },
     "execution_count": 216,
     "metadata": {},
     "output_type": "execute_result"
    }
   ],
   "source": [
    "df.iloc[null_index]"
   ]
  },
  {
   "cell_type": "code",
   "execution_count": 246,
   "id": "dd37394b-1f6e-4d31-98b9-8002f138bad1",
   "metadata": {
    "tags": []
   },
   "outputs": [
    {
     "data": {
      "text/html": [
       "<div>\n",
       "<style scoped>\n",
       "    .dataframe tbody tr th:only-of-type {\n",
       "        vertical-align: middle;\n",
       "    }\n",
       "\n",
       "    .dataframe tbody tr th {\n",
       "        vertical-align: top;\n",
       "    }\n",
       "\n",
       "    .dataframe thead th {\n",
       "        text-align: right;\n",
       "    }\n",
       "</style>\n",
       "<table border=\"1\" class=\"dataframe\">\n",
       "  <thead>\n",
       "    <tr style=\"text-align: right;\">\n",
       "      <th></th>\n",
       "      <th>GPA</th>\n",
       "      <th>Gender</th>\n",
       "      <th>breakfast</th>\n",
       "      <th>calories_chicken</th>\n",
       "      <th>calories_day</th>\n",
       "      <th>calories_scone</th>\n",
       "      <th>coffee</th>\n",
       "      <th>comfort_food</th>\n",
       "      <th>comfort_food_reasons</th>\n",
       "      <th>comfort_food_reasons_coded</th>\n",
       "      <th>...</th>\n",
       "      <th>soup</th>\n",
       "      <th>sports</th>\n",
       "      <th>thai_food</th>\n",
       "      <th>tortilla_calories</th>\n",
       "      <th>turkey_calories</th>\n",
       "      <th>type_sports</th>\n",
       "      <th>veggies_day</th>\n",
       "      <th>vitamins</th>\n",
       "      <th>waffle_calories</th>\n",
       "      <th>weight</th>\n",
       "    </tr>\n",
       "  </thead>\n",
       "  <tbody>\n",
       "    <tr>\n",
       "      <th>15</th>\n",
       "      <td>NaN</td>\n",
       "      <td>2</td>\n",
       "      <td>2</td>\n",
       "      <td>430</td>\n",
       "      <td>3.0</td>\n",
       "      <td>980.0</td>\n",
       "      <td>2</td>\n",
       "      <td>cookies, donuts, candy bars</td>\n",
       "      <td>boredom</td>\n",
       "      <td>2.0</td>\n",
       "      <td>...</td>\n",
       "      <td>2.0</td>\n",
       "      <td>1.0</td>\n",
       "      <td>1</td>\n",
       "      <td>940.0</td>\n",
       "      <td>345</td>\n",
       "      <td>Hockey</td>\n",
       "      <td>1</td>\n",
       "      <td>2</td>\n",
       "      <td>1315</td>\n",
       "      <td>180.0</td>\n",
       "    </tr>\n",
       "    <tr>\n",
       "      <th>61</th>\n",
       "      <td>NaN</td>\n",
       "      <td>1</td>\n",
       "      <td>1</td>\n",
       "      <td>610</td>\n",
       "      <td>2.0</td>\n",
       "      <td>980.0</td>\n",
       "      <td>2</td>\n",
       "      <td>Macaroons, truffles, peanut butter n chocolate...</td>\n",
       "      <td>I do not really eat \"comfort food\" but I guess...</td>\n",
       "      <td>3.0</td>\n",
       "      <td>...</td>\n",
       "      <td>2.0</td>\n",
       "      <td>2.0</td>\n",
       "      <td>2</td>\n",
       "      <td>725.0</td>\n",
       "      <td>500</td>\n",
       "      <td>Water polo and running</td>\n",
       "      <td>3</td>\n",
       "      <td>1</td>\n",
       "      <td>1315</td>\n",
       "      <td>118.0</td>\n",
       "    </tr>\n",
       "    <tr>\n",
       "      <th>102</th>\n",
       "      <td>NaN</td>\n",
       "      <td>1</td>\n",
       "      <td>1</td>\n",
       "      <td>610</td>\n",
       "      <td>4.0</td>\n",
       "      <td>420.0</td>\n",
       "      <td>2</td>\n",
       "      <td>Pizza, mashed potatoes, spaghetti</td>\n",
       "      <td>Anger, sadness</td>\n",
       "      <td>3.0</td>\n",
       "      <td>...</td>\n",
       "      <td>1.0</td>\n",
       "      <td>2.0</td>\n",
       "      <td>2</td>\n",
       "      <td>940.0</td>\n",
       "      <td>500</td>\n",
       "      <td>Volleyball, Track</td>\n",
       "      <td>5</td>\n",
       "      <td>1</td>\n",
       "      <td>900</td>\n",
       "      <td>135.0</td>\n",
       "    </tr>\n",
       "    <tr>\n",
       "      <th>104</th>\n",
       "      <td>NaN</td>\n",
       "      <td>1</td>\n",
       "      <td>1</td>\n",
       "      <td>720</td>\n",
       "      <td>3.0</td>\n",
       "      <td>420.0</td>\n",
       "      <td>2</td>\n",
       "      <td>Chips, chocolate, ,mozzarella sticks</td>\n",
       "      <td>Boredom, sadness, anxiety</td>\n",
       "      <td>2.0</td>\n",
       "      <td>...</td>\n",
       "      <td>2.0</td>\n",
       "      <td>2.0</td>\n",
       "      <td>5</td>\n",
       "      <td>940.0</td>\n",
       "      <td>690</td>\n",
       "      <td>None at the moment</td>\n",
       "      <td>5</td>\n",
       "      <td>1</td>\n",
       "      <td>1315</td>\n",
       "      <td>230.0</td>\n",
       "    </tr>\n",
       "  </tbody>\n",
       "</table>\n",
       "<p>4 rows × 61 columns</p>\n",
       "</div>"
      ],
      "text/plain": [
       "     GPA  Gender  breakfast  calories_chicken  calories_day  calories_scone  \\\n",
       "15   NaN       2          2               430           3.0           980.0   \n",
       "61   NaN       1          1               610           2.0           980.0   \n",
       "102  NaN       1          1               610           4.0           420.0   \n",
       "104  NaN       1          1               720           3.0           420.0   \n",
       "\n",
       "     coffee                                       comfort_food  \\\n",
       "15        2                        cookies, donuts, candy bars   \n",
       "61        2  Macaroons, truffles, peanut butter n chocolate...   \n",
       "102       2                  Pizza, mashed potatoes, spaghetti   \n",
       "104       2              Chips, chocolate, ,mozzarella sticks    \n",
       "\n",
       "                                  comfort_food_reasons  \\\n",
       "15                                             boredom   \n",
       "61   I do not really eat \"comfort food\" but I guess...   \n",
       "102                                     Anger, sadness   \n",
       "104                          Boredom, sadness, anxiety   \n",
       "\n",
       "     comfort_food_reasons_coded  ...  soup  sports  thai_food  \\\n",
       "15                          2.0  ...   2.0     1.0          1   \n",
       "61                          3.0  ...   2.0     2.0          2   \n",
       "102                         3.0  ...   1.0     2.0          2   \n",
       "104                         2.0  ...   2.0     2.0          5   \n",
       "\n",
       "    tortilla_calories  turkey_calories              type_sports veggies_day  \\\n",
       "15              940.0              345                   Hockey           1   \n",
       "61              725.0              500  Water polo and running            3   \n",
       "102             940.0              500        Volleyball, Track           5   \n",
       "104             940.0              690       None at the moment           5   \n",
       "\n",
       "     vitamins  waffle_calories  weight  \n",
       "15          2             1315   180.0  \n",
       "61          1             1315   118.0  \n",
       "102         1              900   135.0  \n",
       "104         1             1315   230.0  \n",
       "\n",
       "[4 rows x 61 columns]"
      ]
     },
     "execution_count": 246,
     "metadata": {},
     "output_type": "execute_result"
    }
   ],
   "source": [
    "df[(df[\"GPA\"].isnull())]"
   ]
  },
  {
   "cell_type": "code",
   "execution_count": 240,
   "id": "fc735801-7a41-4214-9b1c-9329c50de5fd",
   "metadata": {
    "tags": []
   },
   "outputs": [],
   "source": [
    "def clean_data(value):\n",
    "    if isinstance(value, str):\n",
    "        value = re.sub(r'\\D+','',value)\n",
    "        return int(value) if value else np.nan\n",
    "    return value\n",
    "\n",
    "df[\"GPA\"] = df[\"GPA\"].apply(clean_data)\n"
   ]
  },
  {
   "cell_type": "code",
   "execution_count": 242,
   "id": "96fce966-1b5a-440f-b55b-5019460eb138",
   "metadata": {
    "tags": []
   },
   "outputs": [
    {
     "data": {
      "text/plain": [
       "0        24.0\n",
       "1      3654.0\n",
       "3        32.0\n",
       "4        35.0\n",
       "5       225.0\n",
       "        ...  \n",
       "120      35.0\n",
       "121       3.0\n",
       "122    3882.0\n",
       "123       3.0\n",
       "124      39.0\n",
       "Name: GPA, Length: 122, dtype: float64"
      ]
     },
     "execution_count": 242,
     "metadata": {},
     "output_type": "execute_result"
    }
   ],
   "source": [
    "df[\"GPA\"]"
   ]
  },
  {
   "cell_type": "code",
   "execution_count": null,
   "id": "558637cd-5deb-4797-bd84-b780357e7925",
   "metadata": {
    "tags": []
   },
   "outputs": [],
   "source": []
  },
  {
   "cell_type": "code",
   "execution_count": 248,
   "id": "1cb46cac-630c-4d2c-9bc8-bddb59328074",
   "metadata": {
    "tags": []
   },
   "outputs": [],
   "source": [
    "df[\"GPA\"] = pd.to_numeric(df[\"GPA\"])"
   ]
  },
  {
   "cell_type": "code",
   "execution_count": 253,
   "id": "a4a2a858-49b6-4add-b850-776f178dfd31",
   "metadata": {
    "tags": []
   },
   "outputs": [],
   "source": [
    "m3 = df[\"GPA\"].median()"
   ]
  },
  {
   "cell_type": "code",
   "execution_count": 255,
   "id": "4a7f4a06-f100-47c8-9196-7922461479a7",
   "metadata": {
    "tags": []
   },
   "outputs": [],
   "source": [
    "df[\"GPA\"] = df[\"GPA\"].fillna(m3)"
   ]
  },
  {
   "cell_type": "code",
   "execution_count": 259,
   "id": "68fe1a0d-9ea6-4bdc-a6be-a240fff03292",
   "metadata": {
    "tags": []
   },
   "outputs": [
    {
     "data": {
      "text/plain": [
       "0"
      ]
     },
     "execution_count": 259,
     "metadata": {},
     "output_type": "execute_result"
    }
   ],
   "source": [
    "df[\"GPA\"].isnull().sum()"
   ]
  },
  {
   "cell_type": "code",
   "execution_count": 261,
   "id": "f3bfcfec-5da1-4d48-94ca-cdd46841de76",
   "metadata": {
    "tags": []
   },
   "outputs": [
    {
     "data": {
      "text/plain": [
       "GPA                 0\n",
       "Gender              0\n",
       "breakfast           0\n",
       "calories_chicken    0\n",
       "calories_day        0\n",
       "                   ..\n",
       "type_sports         0\n",
       "veggies_day         0\n",
       "vitamins            0\n",
       "waffle_calories     0\n",
       "weight              0\n",
       "Length: 61, dtype: int64"
      ]
     },
     "execution_count": 261,
     "metadata": {},
     "output_type": "execute_result"
    }
   ],
   "source": [
    "df.isnull().sum()"
   ]
  },
  {
   "cell_type": "code",
   "execution_count": 264,
   "id": "b538b1da-3cf0-4d9b-b384-e8bf62fbca99",
   "metadata": {
    "tags": []
   },
   "outputs": [
    {
     "data": {
      "text/html": [
       "<div>\n",
       "<style scoped>\n",
       "    .dataframe tbody tr th:only-of-type {\n",
       "        vertical-align: middle;\n",
       "    }\n",
       "\n",
       "    .dataframe tbody tr th {\n",
       "        vertical-align: top;\n",
       "    }\n",
       "\n",
       "    .dataframe thead th {\n",
       "        text-align: right;\n",
       "    }\n",
       "</style>\n",
       "<table border=\"1\" class=\"dataframe\">\n",
       "  <thead>\n",
       "    <tr style=\"text-align: right;\">\n",
       "      <th></th>\n",
       "      <th>GPA</th>\n",
       "      <th>Gender</th>\n",
       "      <th>breakfast</th>\n",
       "      <th>calories_chicken</th>\n",
       "      <th>calories_day</th>\n",
       "      <th>calories_scone</th>\n",
       "      <th>coffee</th>\n",
       "      <th>comfort_food_reasons_coded</th>\n",
       "      <th>cook</th>\n",
       "      <th>comfort_food_reasons_coded.1</th>\n",
       "      <th>...</th>\n",
       "      <th>self_perception_weight</th>\n",
       "      <th>soup</th>\n",
       "      <th>sports</th>\n",
       "      <th>thai_food</th>\n",
       "      <th>tortilla_calories</th>\n",
       "      <th>turkey_calories</th>\n",
       "      <th>veggies_day</th>\n",
       "      <th>vitamins</th>\n",
       "      <th>waffle_calories</th>\n",
       "      <th>weight</th>\n",
       "    </tr>\n",
       "  </thead>\n",
       "  <tbody>\n",
       "    <tr>\n",
       "      <th>count</th>\n",
       "      <td>122.000000</td>\n",
       "      <td>122.000000</td>\n",
       "      <td>122.000000</td>\n",
       "      <td>122.000000</td>\n",
       "      <td>122.000000</td>\n",
       "      <td>121.000000</td>\n",
       "      <td>122.000000</td>\n",
       "      <td>103.000000</td>\n",
       "      <td>119.000000</td>\n",
       "      <td>122.000000</td>\n",
       "      <td>...</td>\n",
       "      <td>121.000000</td>\n",
       "      <td>121.000000</td>\n",
       "      <td>120.000000</td>\n",
       "      <td>122.000000</td>\n",
       "      <td>121.000000</td>\n",
       "      <td>122.000000</td>\n",
       "      <td>122.000000</td>\n",
       "      <td>122.000000</td>\n",
       "      <td>122.000000</td>\n",
       "      <td>122.00000</td>\n",
       "    </tr>\n",
       "    <tr>\n",
       "      <th>mean</th>\n",
       "      <td>219.754098</td>\n",
       "      <td>1.385246</td>\n",
       "      <td>1.106557</td>\n",
       "      <td>578.442623</td>\n",
       "      <td>3.024590</td>\n",
       "      <td>508.223140</td>\n",
       "      <td>1.754098</td>\n",
       "      <td>2.640777</td>\n",
       "      <td>2.789916</td>\n",
       "      <td>2.639344</td>\n",
       "      <td>...</td>\n",
       "      <td>3.090909</td>\n",
       "      <td>1.223140</td>\n",
       "      <td>1.383333</td>\n",
       "      <td>3.311475</td>\n",
       "      <td>951.859504</td>\n",
       "      <td>558.934426</td>\n",
       "      <td>3.991803</td>\n",
       "      <td>1.516393</td>\n",
       "      <td>1079.959016</td>\n",
       "      <td>159.04918</td>\n",
       "    </tr>\n",
       "    <tr>\n",
       "      <th>std</th>\n",
       "      <td>725.670443</td>\n",
       "      <td>0.488660</td>\n",
       "      <td>0.309822</td>\n",
       "      <td>129.071833</td>\n",
       "      <td>0.581578</td>\n",
       "      <td>232.782856</td>\n",
       "      <td>0.432396</td>\n",
       "      <td>1.888325</td>\n",
       "      <td>1.015757</td>\n",
       "      <td>1.836569</td>\n",
       "      <td>...</td>\n",
       "      <td>1.095445</td>\n",
       "      <td>0.418083</td>\n",
       "      <td>0.488237</td>\n",
       "      <td>1.437870</td>\n",
       "      <td>197.982672</td>\n",
       "      <td>151.732732</td>\n",
       "      <td>1.087083</td>\n",
       "      <td>0.501792</td>\n",
       "      <td>247.897353</td>\n",
       "      <td>32.37662</td>\n",
       "    </tr>\n",
       "    <tr>\n",
       "      <th>min</th>\n",
       "      <td>3.000000</td>\n",
       "      <td>1.000000</td>\n",
       "      <td>1.000000</td>\n",
       "      <td>265.000000</td>\n",
       "      <td>2.000000</td>\n",
       "      <td>315.000000</td>\n",
       "      <td>1.000000</td>\n",
       "      <td>1.000000</td>\n",
       "      <td>1.000000</td>\n",
       "      <td>1.000000</td>\n",
       "      <td>...</td>\n",
       "      <td>1.000000</td>\n",
       "      <td>1.000000</td>\n",
       "      <td>1.000000</td>\n",
       "      <td>1.000000</td>\n",
       "      <td>580.000000</td>\n",
       "      <td>345.000000</td>\n",
       "      <td>1.000000</td>\n",
       "      <td>1.000000</td>\n",
       "      <td>575.000000</td>\n",
       "      <td>100.00000</td>\n",
       "    </tr>\n",
       "    <tr>\n",
       "      <th>25%</th>\n",
       "      <td>32.000000</td>\n",
       "      <td>1.000000</td>\n",
       "      <td>1.000000</td>\n",
       "      <td>430.000000</td>\n",
       "      <td>3.000000</td>\n",
       "      <td>420.000000</td>\n",
       "      <td>2.000000</td>\n",
       "      <td>2.000000</td>\n",
       "      <td>2.000000</td>\n",
       "      <td>2.000000</td>\n",
       "      <td>...</td>\n",
       "      <td>2.000000</td>\n",
       "      <td>1.000000</td>\n",
       "      <td>1.000000</td>\n",
       "      <td>2.000000</td>\n",
       "      <td>725.000000</td>\n",
       "      <td>500.000000</td>\n",
       "      <td>3.000000</td>\n",
       "      <td>1.000000</td>\n",
       "      <td>900.000000</td>\n",
       "      <td>135.00000</td>\n",
       "    </tr>\n",
       "    <tr>\n",
       "      <th>50%</th>\n",
       "      <td>35.000000</td>\n",
       "      <td>1.000000</td>\n",
       "      <td>1.000000</td>\n",
       "      <td>610.000000</td>\n",
       "      <td>3.000000</td>\n",
       "      <td>420.000000</td>\n",
       "      <td>2.000000</td>\n",
       "      <td>2.000000</td>\n",
       "      <td>3.000000</td>\n",
       "      <td>2.000000</td>\n",
       "      <td>...</td>\n",
       "      <td>3.000000</td>\n",
       "      <td>1.000000</td>\n",
       "      <td>1.000000</td>\n",
       "      <td>3.000000</td>\n",
       "      <td>940.000000</td>\n",
       "      <td>500.000000</td>\n",
       "      <td>4.000000</td>\n",
       "      <td>2.000000</td>\n",
       "      <td>1315.000000</td>\n",
       "      <td>155.00000</td>\n",
       "    </tr>\n",
       "    <tr>\n",
       "      <th>75%</th>\n",
       "      <td>38.000000</td>\n",
       "      <td>2.000000</td>\n",
       "      <td>1.000000</td>\n",
       "      <td>692.500000</td>\n",
       "      <td>3.000000</td>\n",
       "      <td>420.000000</td>\n",
       "      <td>2.000000</td>\n",
       "      <td>3.000000</td>\n",
       "      <td>3.000000</td>\n",
       "      <td>3.000000</td>\n",
       "      <td>...</td>\n",
       "      <td>4.000000</td>\n",
       "      <td>1.000000</td>\n",
       "      <td>2.000000</td>\n",
       "      <td>5.000000</td>\n",
       "      <td>1165.000000</td>\n",
       "      <td>690.000000</td>\n",
       "      <td>5.000000</td>\n",
       "      <td>2.000000</td>\n",
       "      <td>1315.000000</td>\n",
       "      <td>180.00000</td>\n",
       "    </tr>\n",
       "    <tr>\n",
       "      <th>max</th>\n",
       "      <td>3904.000000</td>\n",
       "      <td>2.000000</td>\n",
       "      <td>2.000000</td>\n",
       "      <td>720.000000</td>\n",
       "      <td>4.000000</td>\n",
       "      <td>980.000000</td>\n",
       "      <td>2.000000</td>\n",
       "      <td>9.000000</td>\n",
       "      <td>5.000000</td>\n",
       "      <td>9.000000</td>\n",
       "      <td>...</td>\n",
       "      <td>6.000000</td>\n",
       "      <td>2.000000</td>\n",
       "      <td>2.000000</td>\n",
       "      <td>5.000000</td>\n",
       "      <td>1165.000000</td>\n",
       "      <td>850.000000</td>\n",
       "      <td>5.000000</td>\n",
       "      <td>2.000000</td>\n",
       "      <td>1315.000000</td>\n",
       "      <td>265.00000</td>\n",
       "    </tr>\n",
       "  </tbody>\n",
       "</table>\n",
       "<p>8 rows × 49 columns</p>\n",
       "</div>"
      ],
      "text/plain": [
       "               GPA      Gender   breakfast  calories_chicken  calories_day  \\\n",
       "count   122.000000  122.000000  122.000000        122.000000    122.000000   \n",
       "mean    219.754098    1.385246    1.106557        578.442623      3.024590   \n",
       "std     725.670443    0.488660    0.309822        129.071833      0.581578   \n",
       "min       3.000000    1.000000    1.000000        265.000000      2.000000   \n",
       "25%      32.000000    1.000000    1.000000        430.000000      3.000000   \n",
       "50%      35.000000    1.000000    1.000000        610.000000      3.000000   \n",
       "75%      38.000000    2.000000    1.000000        692.500000      3.000000   \n",
       "max    3904.000000    2.000000    2.000000        720.000000      4.000000   \n",
       "\n",
       "       calories_scone      coffee  comfort_food_reasons_coded        cook  \\\n",
       "count      121.000000  122.000000                  103.000000  119.000000   \n",
       "mean       508.223140    1.754098                    2.640777    2.789916   \n",
       "std        232.782856    0.432396                    1.888325    1.015757   \n",
       "min        315.000000    1.000000                    1.000000    1.000000   \n",
       "25%        420.000000    2.000000                    2.000000    2.000000   \n",
       "50%        420.000000    2.000000                    2.000000    3.000000   \n",
       "75%        420.000000    2.000000                    3.000000    3.000000   \n",
       "max        980.000000    2.000000                    9.000000    5.000000   \n",
       "\n",
       "       comfort_food_reasons_coded.1  ...  self_perception_weight        soup  \\\n",
       "count                    122.000000  ...              121.000000  121.000000   \n",
       "mean                       2.639344  ...                3.090909    1.223140   \n",
       "std                        1.836569  ...                1.095445    0.418083   \n",
       "min                        1.000000  ...                1.000000    1.000000   \n",
       "25%                        2.000000  ...                2.000000    1.000000   \n",
       "50%                        2.000000  ...                3.000000    1.000000   \n",
       "75%                        3.000000  ...                4.000000    1.000000   \n",
       "max                        9.000000  ...                6.000000    2.000000   \n",
       "\n",
       "           sports   thai_food  tortilla_calories  turkey_calories  \\\n",
       "count  120.000000  122.000000         121.000000       122.000000   \n",
       "mean     1.383333    3.311475         951.859504       558.934426   \n",
       "std      0.488237    1.437870         197.982672       151.732732   \n",
       "min      1.000000    1.000000         580.000000       345.000000   \n",
       "25%      1.000000    2.000000         725.000000       500.000000   \n",
       "50%      1.000000    3.000000         940.000000       500.000000   \n",
       "75%      2.000000    5.000000        1165.000000       690.000000   \n",
       "max      2.000000    5.000000        1165.000000       850.000000   \n",
       "\n",
       "       veggies_day    vitamins  waffle_calories     weight  \n",
       "count   122.000000  122.000000       122.000000  122.00000  \n",
       "mean      3.991803    1.516393      1079.959016  159.04918  \n",
       "std       1.087083    0.501792       247.897353   32.37662  \n",
       "min       1.000000    1.000000       575.000000  100.00000  \n",
       "25%       3.000000    1.000000       900.000000  135.00000  \n",
       "50%       4.000000    2.000000      1315.000000  155.00000  \n",
       "75%       5.000000    2.000000      1315.000000  180.00000  \n",
       "max       5.000000    2.000000      1315.000000  265.00000  \n",
       "\n",
       "[8 rows x 49 columns]"
      ]
     },
     "execution_count": 264,
     "metadata": {},
     "output_type": "execute_result"
    }
   ],
   "source": [
    "df.describe()"
   ]
  },
  {
   "cell_type": "code",
   "execution_count": 266,
   "id": "5725ab18-f10a-4dce-9ee5-1eb39e84f06c",
   "metadata": {
    "tags": []
   },
   "outputs": [
    {
     "name": "stdout",
     "output_type": "stream",
     "text": [
      "<class 'pandas.core.frame.DataFrame'>\n",
      "Index: 122 entries, 0 to 124\n",
      "Data columns (total 61 columns):\n",
      " #   Column                        Non-Null Count  Dtype  \n",
      "---  ------                        --------------  -----  \n",
      " 0   GPA                           122 non-null    float64\n",
      " 1   Gender                        122 non-null    int64  \n",
      " 2   breakfast                     122 non-null    int64  \n",
      " 3   calories_chicken              122 non-null    int64  \n",
      " 4   calories_day                  122 non-null    float64\n",
      " 5   calories_scone                121 non-null    float64\n",
      " 6   coffee                        122 non-null    int64  \n",
      " 7   comfort_food                  122 non-null    object \n",
      " 8   comfort_food_reasons          121 non-null    object \n",
      " 9   comfort_food_reasons_coded    103 non-null    float64\n",
      " 10  cook                          119 non-null    float64\n",
      " 11  comfort_food_reasons_coded.1  122 non-null    int64  \n",
      " 12  cuisine                       106 non-null    float64\n",
      " 13  diet_current                  122 non-null    object \n",
      " 14  diet_current_coded            122 non-null    int64  \n",
      " 15  drink                         120 non-null    float64\n",
      " 16  eating_changes                120 non-null    object \n",
      " 17  eating_changes_coded          122 non-null    int64  \n",
      " 18  eating_changes_coded1         122 non-null    int64  \n",
      " 19  eating_out                    122 non-null    int64  \n",
      " 20  employment                    113 non-null    float64\n",
      " 21  ethnic_food                   122 non-null    int64  \n",
      " 22  exercise                      110 non-null    float64\n",
      " 23  father_education              121 non-null    float64\n",
      " 24  father_profession             119 non-null    object \n",
      " 25  fav_cuisine                   121 non-null    object \n",
      " 26  fav_cuisine_coded             122 non-null    int64  \n",
      " 27  fav_food                      121 non-null    float64\n",
      " 28  food_childhood                122 non-null    object \n",
      " 29  fries                         122 non-null    int64  \n",
      " 30  fruit_day                     122 non-null    int64  \n",
      " 31  grade_level                   122 non-null    int64  \n",
      " 32  greek_food                    122 non-null    int64  \n",
      " 33  healthy_feeling               122 non-null    int64  \n",
      " 34  healthy_meal                  122 non-null    object \n",
      " 35  ideal_diet                    122 non-null    object \n",
      " 36  ideal_diet_coded              122 non-null    int64  \n",
      " 37  income                        121 non-null    float64\n",
      " 38  indian_food                   122 non-null    int64  \n",
      " 39  italian_food                  122 non-null    int64  \n",
      " 40  life_rewarding                121 non-null    float64\n",
      " 41  marital_status                121 non-null    float64\n",
      " 42  meals_dinner_friend           119 non-null    object \n",
      " 43  mother_education              119 non-null    float64\n",
      " 44  mother_profession             121 non-null    object \n",
      " 45  nutritional_check             122 non-null    int64  \n",
      " 46  on_off_campus                 121 non-null    float64\n",
      " 47  parents_cook                  122 non-null    int64  \n",
      " 48  pay_meal_out                  122 non-null    int64  \n",
      " 49  persian_food                  121 non-null    float64\n",
      " 50  self_perception_weight        121 non-null    float64\n",
      " 51  soup                          121 non-null    float64\n",
      " 52  sports                        120 non-null    float64\n",
      " 53  thai_food                     122 non-null    int64  \n",
      " 54  tortilla_calories             121 non-null    float64\n",
      " 55  turkey_calories               122 non-null    int64  \n",
      " 56  type_sports                   122 non-null    object \n",
      " 57  veggies_day                   122 non-null    int64  \n",
      " 58  vitamins                      122 non-null    int64  \n",
      " 59  waffle_calories               122 non-null    int64  \n",
      " 60  weight                        122 non-null    float64\n",
      "dtypes: float64(22), int64(27), object(12)\n",
      "memory usage: 59.1+ KB\n"
     ]
    }
   ],
   "source": [
    "df.info()"
   ]
  },
  {
   "cell_type": "code",
   "execution_count": 268,
   "id": "9b25df88-38f5-41c8-97f1-85af2faa1a3e",
   "metadata": {
    "tags": []
   },
   "outputs": [
    {
     "data": {
      "text/plain": [
       "GPA                 0\n",
       "Gender              0\n",
       "breakfast           0\n",
       "calories_chicken    0\n",
       "calories_day        0\n",
       "                   ..\n",
       "type_sports         0\n",
       "veggies_day         0\n",
       "vitamins            0\n",
       "waffle_calories     0\n",
       "weight              0\n",
       "Length: 61, dtype: int64"
      ]
     },
     "execution_count": 268,
     "metadata": {},
     "output_type": "execute_result"
    }
   ],
   "source": [
    "df.isnull().sum()"
   ]
  },
  {
   "cell_type": "code",
   "execution_count": 274,
   "id": "2e63bd23-2777-42f4-a024-49a395b9b0ca",
   "metadata": {
    "tags": []
   },
   "outputs": [
    {
     "name": "stdout",
     "output_type": "stream",
     "text": [
      "comfort_food_reasons_coded    19\n",
      "cuisine                       16\n",
      "exercise                      12\n",
      "employment                     9\n",
      "cook                           3\n",
      "                              ..\n",
      "grade_level                    0\n",
      "greek_food                     0\n",
      "healthy_feeling                0\n",
      "healthy_meal                   0\n",
      "weight                         0\n",
      "Length: 61, dtype: int64\n"
     ]
    }
   ],
   "source": [
    "print(df.isnull().sum().sort_values(ascending=False))\n"
   ]
  },
  {
   "cell_type": "code",
   "execution_count": 296,
   "id": "e28fab8e-99bb-42e4-8a63-d56e44f37f71",
   "metadata": {
    "tags": []
   },
   "outputs": [
    {
     "data": {
      "text/plain": [
       "0      9.0\n",
       "1      1.0\n",
       "3      2.0\n",
       "4      1.0\n",
       "5      4.0\n",
       "      ... \n",
       "120    NaN\n",
       "121    NaN\n",
       "122    NaN\n",
       "123    NaN\n",
       "124    NaN\n",
       "Name: comfort_food_reasons_coded, Length: 122, dtype: float64"
      ]
     },
     "execution_count": 296,
     "metadata": {},
     "output_type": "execute_result"
    }
   ],
   "source": [
    "df[\"comfort_food_reasons_coded\"]"
   ]
  },
  {
   "cell_type": "code",
   "execution_count": 276,
   "id": "7fadf926-0f7f-4ba3-8a8b-22d629ac1cd6",
   "metadata": {
    "tags": []
   },
   "outputs": [
    {
     "data": {
      "text/plain": [
       "19"
      ]
     },
     "execution_count": 276,
     "metadata": {},
     "output_type": "execute_result"
    }
   ],
   "source": [
    "df[\"comfort_food_reasons_coded\"].isnull().sum()"
   ]
  },
  {
   "cell_type": "code",
   "execution_count": 292,
   "id": "6cdf1e8d-9c64-4513-b203-42e072ce0c79",
   "metadata": {
    "tags": []
   },
   "outputs": [
    {
     "data": {
      "text/plain": [
       "3"
      ]
     },
     "execution_count": 292,
     "metadata": {},
     "output_type": "execute_result"
    }
   ],
   "source": [
    "round(df[\"comfort_food_reasons_coded\"].mean())"
   ]
  },
  {
   "cell_type": "code",
   "execution_count": 300,
   "id": "7ea2bfe3-9630-4961-a8c3-c7d506a6cf40",
   "metadata": {
    "tags": []
   },
   "outputs": [
    {
     "data": {
      "text/plain": [
       "2.6407766990291264"
      ]
     },
     "execution_count": 300,
     "metadata": {},
     "output_type": "execute_result"
    }
   ],
   "source": [
    "df[\"comfort_food_reasons_coded\"].mean()"
   ]
  },
  {
   "cell_type": "code",
   "execution_count": 304,
   "id": "eec2a128-41b0-4974-9a9c-7165d0cea036",
   "metadata": {
    "tags": []
   },
   "outputs": [
    {
     "name": "stdout",
     "output_type": "stream",
     "text": [
      "3.0\n"
     ]
    }
   ],
   "source": [
    "rounded_mean = math.ceil(df[\"comfort_food_reasons_coded\"].mean())\n",
    "print(float(rounded_mean))"
   ]
  },
  {
   "cell_type": "code",
   "execution_count": 310,
   "id": "9b73a111-43c5-452b-a06d-9c5da450d53f",
   "metadata": {
    "tags": []
   },
   "outputs": [
    {
     "data": {
      "text/plain": [
       "3.0"
      ]
     },
     "execution_count": 310,
     "metadata": {},
     "output_type": "execute_result"
    }
   ],
   "source": [
    "rounded_float_mean= float(rounded_mean)\n",
    "rounded_float_mean"
   ]
  },
  {
   "cell_type": "code",
   "execution_count": null,
   "id": "351cf55d-ca01-49bb-b412-505a118f594f",
   "metadata": {},
   "outputs": [],
   "source": []
  }
 ],
 "metadata": {
  "kernelspec": {
   "display_name": "Python 3 (ipykernel)",
   "language": "python",
   "name": "python3"
  },
  "language_info": {
   "codemirror_mode": {
    "name": "ipython",
    "version": 3
   },
   "file_extension": ".py",
   "mimetype": "text/x-python",
   "name": "python",
   "nbconvert_exporter": "python",
   "pygments_lexer": "ipython3",
   "version": "3.11.7"
  }
 },
 "nbformat": 4,
 "nbformat_minor": 5
}
